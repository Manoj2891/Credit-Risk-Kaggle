{
 "cells": [
  {
   "cell_type": "markdown",
   "metadata": {
    "colab_type": "text",
    "id": "uRZXWR3Fmo8f"
   },
   "source": [
    "\n",
    "# **Give Me Some Credit**"
   ]
  },
  {
   "cell_type": "markdown",
   "metadata": {
    "colab_type": "text",
    "id": "ftlXGfxECPE8"
   },
   "source": [
    "# PROBLEM STATEMENT\n",
    "Banks play a crucial role in market economies. They decide who can get finance and on what terms and can make or break investment decisions. For markets and society to function, individuals and companies need access to credit. \n",
    "\n",
    "Credit scoring algorithms, which make a guess at the probability of default, are the method banks use to determine whether or not a loan should be granted. This competition requires participants to improve on the state of the art in credit scoring, by predicting the probability that somebody will experience financial distress in the next two years.\n",
    "\n",
    "The goal of this activity is to build a model that borrowers can use to help make the best financial decisions."
   ]
  },
  {
   "cell_type": "code",
   "execution_count": 0,
   "metadata": {
    "colab": {
     "base_uri": "https://localhost:8080/",
     "height": 139
    },
    "colab_type": "code",
    "id": "sPdv-pcv_2jt",
    "outputId": "5ac32b1b-d60c-436c-e199-e94c315c59aa"
   },
   "outputs": [
    {
     "name": "stderr",
     "output_type": "stream",
     "text": [
      "/usr/local/lib/python3.6/dist-packages/statsmodels/tools/_testing.py:19: FutureWarning: pandas.util.testing is deprecated. Use the functions in the public API at pandas.testing instead.\n",
      "  import pandas.util.testing as tm\n",
      "/usr/local/lib/python3.6/dist-packages/sklearn/externals/six.py:31: FutureWarning: The module is deprecated in version 0.21 and will be removed in version 0.23 since we've dropped support for Python 2.7. Please rely on the official version of six (https://pypi.org/project/six/).\n",
      "  \"(https://pypi.org/project/six/).\", FutureWarning)\n",
      "/usr/local/lib/python3.6/dist-packages/sklearn/utils/deprecation.py:144: FutureWarning: The sklearn.neighbors.base module is  deprecated in version 0.22 and will be removed in version 0.24. The corresponding classes / functions should instead be imported from sklearn.neighbors. Anything that cannot be imported from sklearn.neighbors is now part of the private API.\n",
      "  warnings.warn(message, FutureWarning)\n"
     ]
    }
   ],
   "source": [
    "import pandas as pd\n",
    "import numpy as np\n",
    "\n",
    "from sklearn import preprocessing\n",
    "from sklearn.impute import SimpleImputer\n",
    "from sklearn.compose import ColumnTransformer\n",
    "\n",
    "from sklearn.preprocessing import StandardScaler\n",
    "from sklearn.preprocessing import OneHotEncoder\n",
    "from sklearn.model_selection import train_test_split\n",
    "from sklearn.pipeline import Pipeline\n",
    "from sklearn.model_selection import GridSearchCV, RandomizedSearchCV\n",
    "\n",
    "from sklearn.svm import SVC\n",
    "from sklearn.linear_model import LogisticRegression\n",
    "from sklearn.metrics import confusion_matrix\n",
    "\n",
    "import matplotlib.pyplot as plt\n",
    "import seaborn as sns\n",
    "from imblearn.over_sampling import SMOTE\n",
    "from sklearn.metrics import accuracy_score, recall_score, precision_score\n",
    "\n",
    "import warnings\n",
    "warnings.filterwarnings('ignore')"
   ]
  },
  {
   "cell_type": "markdown",
   "metadata": {
    "colab_type": "text",
    "id": "vQEmcnwK8VP2"
   },
   "source": [
    "Reading the CSV files"
   ]
  },
  {
   "cell_type": "code",
   "execution_count": 0,
   "metadata": {
    "colab": {},
    "colab_type": "code",
    "id": "gkPbGImABwzd"
   },
   "outputs": [],
   "source": [
    "train = pd.read_csv('/content/drive/My Drive/credit risk/cs-training.csv')\n",
    "test = pd.read_csv('/content/drive/My Drive/credit risk/cs-test.csv')"
   ]
  },
  {
   "cell_type": "code",
   "execution_count": 0,
   "metadata": {
    "colab": {
     "base_uri": "https://localhost:8080/",
     "height": 51
    },
    "colab_type": "code",
    "id": "LR7qol56DlT9",
    "outputId": "60164286-eba5-427d-8b84-9ae5e0fe6ff1"
   },
   "outputs": [
    {
     "name": "stdout",
     "output_type": "stream",
     "text": [
      "Train:  (150000, 12)\n",
      "Test:  (101503, 12)\n"
     ]
    }
   ],
   "source": [
    "print(\"Train: \",train.shape)\n",
    "print(\"Test: \",test.shape)"
   ]
  },
  {
   "cell_type": "code",
   "execution_count": 0,
   "metadata": {
    "colab": {
     "base_uri": "https://localhost:8080/",
     "height": 142
    },
    "colab_type": "code",
    "id": "OLJ_LTqEGyND",
    "outputId": "d3b0bcef-f205-4ea1-f556-7560b7ba2741"
   },
   "outputs": [
    {
     "data": {
      "text/html": [
       "<div>\n",
       "<style scoped>\n",
       "    .dataframe tbody tr th:only-of-type {\n",
       "        vertical-align: middle;\n",
       "    }\n",
       "\n",
       "    .dataframe tbody tr th {\n",
       "        vertical-align: top;\n",
       "    }\n",
       "\n",
       "    .dataframe thead th {\n",
       "        text-align: right;\n",
       "    }\n",
       "</style>\n",
       "<table border=\"1\" class=\"dataframe\">\n",
       "  <thead>\n",
       "    <tr style=\"text-align: right;\">\n",
       "      <th></th>\n",
       "      <th>Total</th>\n",
       "      <th>Percent</th>\n",
       "    </tr>\n",
       "  </thead>\n",
       "  <tbody>\n",
       "    <tr>\n",
       "      <th>MonthlyIncome</th>\n",
       "      <td>29731</td>\n",
       "      <td>0.198207</td>\n",
       "    </tr>\n",
       "    <tr>\n",
       "      <th>NumberOfDependents</th>\n",
       "      <td>3924</td>\n",
       "      <td>0.026160</td>\n",
       "    </tr>\n",
       "    <tr>\n",
       "      <th>NumberOfTime60-89DaysPastDueNotWorse</th>\n",
       "      <td>0</td>\n",
       "      <td>0.000000</td>\n",
       "    </tr>\n",
       "  </tbody>\n",
       "</table>\n",
       "</div>"
      ],
      "text/plain": [
       "                                      Total   Percent\n",
       "MonthlyIncome                         29731  0.198207\n",
       "NumberOfDependents                     3924  0.026160\n",
       "NumberOfTime60-89DaysPastDueNotWorse      0  0.000000"
      ]
     },
     "execution_count": 5,
     "metadata": {
      "tags": []
     },
     "output_type": "execute_result"
    }
   ],
   "source": [
    "total = train.isnull().sum().sort_values(ascending=False)\n",
    "percent = (train.isnull().sum()/train.isnull().count()).sort_values(ascending=False)\n",
    "missing_data = pd.concat([total, percent], axis=1, keys=['Total', 'Percent'])\n",
    "missing_data.head(3)"
   ]
  },
  {
   "cell_type": "code",
   "execution_count": 0,
   "metadata": {
    "colab": {
     "base_uri": "https://localhost:8080/",
     "height": 142
    },
    "colab_type": "code",
    "id": "OdwSx36jDuY4",
    "outputId": "df0a897c-18b0-403f-9255-c102a15eb1e2"
   },
   "outputs": [
    {
     "data": {
      "text/html": [
       "<div>\n",
       "<style scoped>\n",
       "    .dataframe tbody tr th:only-of-type {\n",
       "        vertical-align: middle;\n",
       "    }\n",
       "\n",
       "    .dataframe tbody tr th {\n",
       "        vertical-align: top;\n",
       "    }\n",
       "\n",
       "    .dataframe thead th {\n",
       "        text-align: right;\n",
       "    }\n",
       "</style>\n",
       "<table border=\"1\" class=\"dataframe\">\n",
       "  <thead>\n",
       "    <tr style=\"text-align: right;\">\n",
       "      <th></th>\n",
       "      <th>Total</th>\n",
       "      <th>Percent</th>\n",
       "    </tr>\n",
       "  </thead>\n",
       "  <tbody>\n",
       "    <tr>\n",
       "      <th>SeriousDlqin2yrs</th>\n",
       "      <td>101503</td>\n",
       "      <td>1.000000</td>\n",
       "    </tr>\n",
       "    <tr>\n",
       "      <th>MonthlyIncome</th>\n",
       "      <td>20103</td>\n",
       "      <td>0.198053</td>\n",
       "    </tr>\n",
       "    <tr>\n",
       "      <th>NumberOfDependents</th>\n",
       "      <td>2626</td>\n",
       "      <td>0.025871</td>\n",
       "    </tr>\n",
       "  </tbody>\n",
       "</table>\n",
       "</div>"
      ],
      "text/plain": [
       "                     Total   Percent\n",
       "SeriousDlqin2yrs    101503  1.000000\n",
       "MonthlyIncome        20103  0.198053\n",
       "NumberOfDependents    2626  0.025871"
      ]
     },
     "execution_count": 6,
     "metadata": {
      "tags": []
     },
     "output_type": "execute_result"
    }
   ],
   "source": [
    "total = test.isnull().sum().sort_values(ascending=False)\n",
    "percent = (test.isnull().sum()/test.isnull().count()).sort_values(ascending=False)\n",
    "missing_data = pd.concat([total, percent], axis=1, keys=['Total', 'Percent'])\n",
    "missing_data.head(3)"
   ]
  },
  {
   "cell_type": "code",
   "execution_count": 0,
   "metadata": {
    "colab": {
     "base_uri": "https://localhost:8080/",
     "height": 334
    },
    "colab_type": "code",
    "id": "ZKBtMZJiJdtb",
    "outputId": "2cc60f86-bfa9-4961-8d9e-cca7e82324b7"
   },
   "outputs": [
    {
     "data": {
      "text/html": [
       "<div>\n",
       "<style scoped>\n",
       "    .dataframe tbody tr th:only-of-type {\n",
       "        vertical-align: middle;\n",
       "    }\n",
       "\n",
       "    .dataframe tbody tr th {\n",
       "        vertical-align: top;\n",
       "    }\n",
       "\n",
       "    .dataframe thead th {\n",
       "        text-align: right;\n",
       "    }\n",
       "</style>\n",
       "<table border=\"1\" class=\"dataframe\">\n",
       "  <thead>\n",
       "    <tr style=\"text-align: right;\">\n",
       "      <th></th>\n",
       "      <th>Unnamed: 0</th>\n",
       "      <th>SeriousDlqin2yrs</th>\n",
       "      <th>RevolvingUtilizationOfUnsecuredLines</th>\n",
       "      <th>age</th>\n",
       "      <th>NumberOfTime30-59DaysPastDueNotWorse</th>\n",
       "      <th>DebtRatio</th>\n",
       "      <th>MonthlyIncome</th>\n",
       "      <th>NumberOfOpenCreditLinesAndLoans</th>\n",
       "      <th>NumberOfTimes90DaysLate</th>\n",
       "      <th>NumberRealEstateLoansOrLines</th>\n",
       "      <th>NumberOfTime60-89DaysPastDueNotWorse</th>\n",
       "      <th>NumberOfDependents</th>\n",
       "    </tr>\n",
       "  </thead>\n",
       "  <tbody>\n",
       "    <tr>\n",
       "      <th>count</th>\n",
       "      <td>150000.000000</td>\n",
       "      <td>150000.000000</td>\n",
       "      <td>150000.000000</td>\n",
       "      <td>150000.000000</td>\n",
       "      <td>150000.000000</td>\n",
       "      <td>150000.000000</td>\n",
       "      <td>1.202690e+05</td>\n",
       "      <td>150000.000000</td>\n",
       "      <td>150000.000000</td>\n",
       "      <td>150000.000000</td>\n",
       "      <td>150000.000000</td>\n",
       "      <td>146076.000000</td>\n",
       "    </tr>\n",
       "    <tr>\n",
       "      <th>mean</th>\n",
       "      <td>75000.500000</td>\n",
       "      <td>0.066840</td>\n",
       "      <td>6.048438</td>\n",
       "      <td>52.295207</td>\n",
       "      <td>0.421033</td>\n",
       "      <td>353.005076</td>\n",
       "      <td>6.670221e+03</td>\n",
       "      <td>8.452760</td>\n",
       "      <td>0.265973</td>\n",
       "      <td>1.018240</td>\n",
       "      <td>0.240387</td>\n",
       "      <td>0.757222</td>\n",
       "    </tr>\n",
       "    <tr>\n",
       "      <th>std</th>\n",
       "      <td>43301.414527</td>\n",
       "      <td>0.249746</td>\n",
       "      <td>249.755371</td>\n",
       "      <td>14.771866</td>\n",
       "      <td>4.192781</td>\n",
       "      <td>2037.818523</td>\n",
       "      <td>1.438467e+04</td>\n",
       "      <td>5.145951</td>\n",
       "      <td>4.169304</td>\n",
       "      <td>1.129771</td>\n",
       "      <td>4.155179</td>\n",
       "      <td>1.115086</td>\n",
       "    </tr>\n",
       "    <tr>\n",
       "      <th>min</th>\n",
       "      <td>1.000000</td>\n",
       "      <td>0.000000</td>\n",
       "      <td>0.000000</td>\n",
       "      <td>0.000000</td>\n",
       "      <td>0.000000</td>\n",
       "      <td>0.000000</td>\n",
       "      <td>0.000000e+00</td>\n",
       "      <td>0.000000</td>\n",
       "      <td>0.000000</td>\n",
       "      <td>0.000000</td>\n",
       "      <td>0.000000</td>\n",
       "      <td>0.000000</td>\n",
       "    </tr>\n",
       "    <tr>\n",
       "      <th>25%</th>\n",
       "      <td>37500.750000</td>\n",
       "      <td>0.000000</td>\n",
       "      <td>0.029867</td>\n",
       "      <td>41.000000</td>\n",
       "      <td>0.000000</td>\n",
       "      <td>0.175074</td>\n",
       "      <td>3.400000e+03</td>\n",
       "      <td>5.000000</td>\n",
       "      <td>0.000000</td>\n",
       "      <td>0.000000</td>\n",
       "      <td>0.000000</td>\n",
       "      <td>0.000000</td>\n",
       "    </tr>\n",
       "    <tr>\n",
       "      <th>50%</th>\n",
       "      <td>75000.500000</td>\n",
       "      <td>0.000000</td>\n",
       "      <td>0.154181</td>\n",
       "      <td>52.000000</td>\n",
       "      <td>0.000000</td>\n",
       "      <td>0.366508</td>\n",
       "      <td>5.400000e+03</td>\n",
       "      <td>8.000000</td>\n",
       "      <td>0.000000</td>\n",
       "      <td>1.000000</td>\n",
       "      <td>0.000000</td>\n",
       "      <td>0.000000</td>\n",
       "    </tr>\n",
       "    <tr>\n",
       "      <th>75%</th>\n",
       "      <td>112500.250000</td>\n",
       "      <td>0.000000</td>\n",
       "      <td>0.559046</td>\n",
       "      <td>63.000000</td>\n",
       "      <td>0.000000</td>\n",
       "      <td>0.868254</td>\n",
       "      <td>8.249000e+03</td>\n",
       "      <td>11.000000</td>\n",
       "      <td>0.000000</td>\n",
       "      <td>2.000000</td>\n",
       "      <td>0.000000</td>\n",
       "      <td>1.000000</td>\n",
       "    </tr>\n",
       "    <tr>\n",
       "      <th>max</th>\n",
       "      <td>150000.000000</td>\n",
       "      <td>1.000000</td>\n",
       "      <td>50708.000000</td>\n",
       "      <td>109.000000</td>\n",
       "      <td>98.000000</td>\n",
       "      <td>329664.000000</td>\n",
       "      <td>3.008750e+06</td>\n",
       "      <td>58.000000</td>\n",
       "      <td>98.000000</td>\n",
       "      <td>54.000000</td>\n",
       "      <td>98.000000</td>\n",
       "      <td>20.000000</td>\n",
       "    </tr>\n",
       "  </tbody>\n",
       "</table>\n",
       "</div>"
      ],
      "text/plain": [
       "          Unnamed: 0  ...  NumberOfDependents\n",
       "count  150000.000000  ...       146076.000000\n",
       "mean    75000.500000  ...            0.757222\n",
       "std     43301.414527  ...            1.115086\n",
       "min         1.000000  ...            0.000000\n",
       "25%     37500.750000  ...            0.000000\n",
       "50%     75000.500000  ...            0.000000\n",
       "75%    112500.250000  ...            1.000000\n",
       "max    150000.000000  ...           20.000000\n",
       "\n",
       "[8 rows x 12 columns]"
      ]
     },
     "execution_count": 7,
     "metadata": {
      "tags": []
     },
     "output_type": "execute_result"
    }
   ],
   "source": [
    "\n",
    "train.describe()"
   ]
  },
  {
   "cell_type": "code",
   "execution_count": 0,
   "metadata": {
    "colab": {
     "base_uri": "https://localhost:8080/",
     "height": 241
    },
    "colab_type": "code",
    "id": "IgjKlD4KdK15",
    "outputId": "3abd91c1-a846-4b5d-d23b-5f6576f56e02"
   },
   "outputs": [
    {
     "data": {
      "text/html": [
       "<div>\n",
       "<style scoped>\n",
       "    .dataframe tbody tr th:only-of-type {\n",
       "        vertical-align: middle;\n",
       "    }\n",
       "\n",
       "    .dataframe tbody tr th {\n",
       "        vertical-align: top;\n",
       "    }\n",
       "\n",
       "    .dataframe thead th {\n",
       "        text-align: right;\n",
       "    }\n",
       "</style>\n",
       "<table border=\"1\" class=\"dataframe\">\n",
       "  <thead>\n",
       "    <tr style=\"text-align: right;\">\n",
       "      <th></th>\n",
       "      <th>Unnamed: 0</th>\n",
       "      <th>SeriousDlqin2yrs</th>\n",
       "      <th>RevolvingUtilizationOfUnsecuredLines</th>\n",
       "      <th>age</th>\n",
       "      <th>NumberOfTime30-59DaysPastDueNotWorse</th>\n",
       "      <th>DebtRatio</th>\n",
       "      <th>MonthlyIncome</th>\n",
       "      <th>NumberOfOpenCreditLinesAndLoans</th>\n",
       "      <th>NumberOfTimes90DaysLate</th>\n",
       "      <th>NumberRealEstateLoansOrLines</th>\n",
       "      <th>NumberOfTime60-89DaysPastDueNotWorse</th>\n",
       "      <th>NumberOfDependents</th>\n",
       "    </tr>\n",
       "  </thead>\n",
       "  <tbody>\n",
       "    <tr>\n",
       "      <th>0</th>\n",
       "      <td>1</td>\n",
       "      <td>1</td>\n",
       "      <td>0.766127</td>\n",
       "      <td>45</td>\n",
       "      <td>2</td>\n",
       "      <td>0.802982</td>\n",
       "      <td>9120.0</td>\n",
       "      <td>13</td>\n",
       "      <td>0</td>\n",
       "      <td>6</td>\n",
       "      <td>0</td>\n",
       "      <td>2.0</td>\n",
       "    </tr>\n",
       "    <tr>\n",
       "      <th>1</th>\n",
       "      <td>2</td>\n",
       "      <td>0</td>\n",
       "      <td>0.957151</td>\n",
       "      <td>40</td>\n",
       "      <td>0</td>\n",
       "      <td>0.121876</td>\n",
       "      <td>2600.0</td>\n",
       "      <td>4</td>\n",
       "      <td>0</td>\n",
       "      <td>0</td>\n",
       "      <td>0</td>\n",
       "      <td>1.0</td>\n",
       "    </tr>\n",
       "    <tr>\n",
       "      <th>2</th>\n",
       "      <td>3</td>\n",
       "      <td>0</td>\n",
       "      <td>0.658180</td>\n",
       "      <td>38</td>\n",
       "      <td>1</td>\n",
       "      <td>0.085113</td>\n",
       "      <td>3042.0</td>\n",
       "      <td>2</td>\n",
       "      <td>1</td>\n",
       "      <td>0</td>\n",
       "      <td>0</td>\n",
       "      <td>0.0</td>\n",
       "    </tr>\n",
       "    <tr>\n",
       "      <th>3</th>\n",
       "      <td>4</td>\n",
       "      <td>0</td>\n",
       "      <td>0.233810</td>\n",
       "      <td>30</td>\n",
       "      <td>0</td>\n",
       "      <td>0.036050</td>\n",
       "      <td>3300.0</td>\n",
       "      <td>5</td>\n",
       "      <td>0</td>\n",
       "      <td>0</td>\n",
       "      <td>0</td>\n",
       "      <td>0.0</td>\n",
       "    </tr>\n",
       "    <tr>\n",
       "      <th>4</th>\n",
       "      <td>5</td>\n",
       "      <td>0</td>\n",
       "      <td>0.907239</td>\n",
       "      <td>49</td>\n",
       "      <td>1</td>\n",
       "      <td>0.024926</td>\n",
       "      <td>63588.0</td>\n",
       "      <td>7</td>\n",
       "      <td>0</td>\n",
       "      <td>1</td>\n",
       "      <td>0</td>\n",
       "      <td>0.0</td>\n",
       "    </tr>\n",
       "  </tbody>\n",
       "</table>\n",
       "</div>"
      ],
      "text/plain": [
       "   Unnamed: 0  ...  NumberOfDependents\n",
       "0           1  ...                 2.0\n",
       "1           2  ...                 1.0\n",
       "2           3  ...                 0.0\n",
       "3           4  ...                 0.0\n",
       "4           5  ...                 0.0\n",
       "\n",
       "[5 rows x 12 columns]"
      ]
     },
     "execution_count": 8,
     "metadata": {
      "tags": []
     },
     "output_type": "execute_result"
    }
   ],
   "source": [
    "train.head()"
   ]
  },
  {
   "cell_type": "markdown",
   "metadata": {
    "colab_type": "text",
    "id": "wkufuwlB8lQW"
   },
   "source": [
    "Removing unnecessary columns"
   ]
  },
  {
   "cell_type": "code",
   "execution_count": 0,
   "metadata": {
    "colab": {},
    "colab_type": "code",
    "id": "NHvFYmNdQb8T"
   },
   "outputs": [],
   "source": [
    "train = train.drop(columns = ['Unnamed: 0'])"
   ]
  },
  {
   "cell_type": "code",
   "execution_count": 0,
   "metadata": {
    "colab": {},
    "colab_type": "code",
    "id": "2EVdXfRZhJi5"
   },
   "outputs": [],
   "source": [
    "test = test.drop(columns = ['Unnamed: 0'])"
   ]
  },
  {
   "cell_type": "code",
   "execution_count": 0,
   "metadata": {
    "colab": {},
    "colab_type": "code",
    "id": "O02_J6ICU6_g"
   },
   "outputs": [],
   "source": [
    "#define function to draw boxplots of train data\n",
    "def draw_boxplots_tran(df_train, column1,column2,column3,column4):\n",
    "    fig, axes = plt.subplots(2, 2, figsize=(10, 4))\n",
    "    sns.boxplot(x=train[column1], ax=axes[0,0])\n",
    "    axes[0,0].set_title(\"\", fontsize=18)\n",
    "    sns.boxplot(x=train[column2], color=\"green\", ax= axes[0,1])\n",
    "    axes[0,1].set_title(\"\", fontsize=18)\n",
    "    sns.boxplot(x=train[column3], color=\"green\", ax= axes[1,0])\n",
    "    sns.boxplot(x=train[column4], color=\"green\", ax= axes[1,1])\n",
    "    plt.show()\n",
    "    return "
   ]
  },
  {
   "cell_type": "code",
   "execution_count": 0,
   "metadata": {
    "colab": {
     "base_uri": "https://localhost:8080/",
     "height": 279
    },
    "colab_type": "code",
    "id": "VMOT_diCWySh",
    "outputId": "6a4ba20d-5d4e-4da7-9385-eb479dc76ab4"
   },
   "outputs": [
    {
     "data": {
      "image/png": "[encoded data removed]",
      "text/plain": [
       "<Figure size 720x288 with 4 Axes>"
      ]
     },
     "metadata": {
      "needs_background": "light",
      "tags": []
     },
     "output_type": "display_data"
    }
   ],
   "source": [
    "draw_boxplots_tran(train,'RevolvingUtilizationOfUnsecuredLines','age','MonthlyIncome','NumberOfTime30-59DaysPastDueNotWorse')"
   ]
  },
  {
   "cell_type": "code",
   "execution_count": 0,
   "metadata": {
    "colab": {
     "base_uri": "https://localhost:8080/",
     "height": 279
    },
    "colab_type": "code",
    "id": "yRptj8OcXQWr",
    "outputId": "7654781a-1079-4a8c-a5e1-de25e39793ec"
   },
   "outputs": [
    {
     "data": {
      "image/png": "[encoded data removed]",
      "text/plain": [
       "<Figure size 720x288 with 4 Axes>"
      ]
     },
     "metadata": {
      "needs_background": "light",
      "tags": []
     },
     "output_type": "display_data"
    }
   ],
   "source": [
    "draw_boxplots_tran(train,'DebtRatio','NumberOfOpenCreditLinesAndLoans','NumberOfTimes90DaysLate','NumberRealEstateLoansOrLines')"
   ]
  },
  {
   "cell_type": "code",
   "execution_count": 0,
   "metadata": {
    "colab": {
     "base_uri": "https://localhost:8080/",
     "height": 265
    },
    "colab_type": "code",
    "id": "ZNbGg7vWNiw5",
    "outputId": "b52b687c-d08b-41ab-c83b-00d85acecc61"
   },
   "outputs": [
    {
     "data": {
      "image/png": "[encoded data removed]",
      "text/plain": [
       "<Figure size 432x288 with 1 Axes>"
      ]
     },
     "metadata": {
      "needs_background": "light",
      "tags": []
     },
     "output_type": "display_data"
    }
   ],
   "source": [
    "train.boxplot(['NumberOfTime60-89DaysPastDueNotWorse','NumberOfDependents'])\n",
    "plt.show()"
   ]
  },
  {
   "cell_type": "code",
   "execution_count": 0,
   "metadata": {
    "colab": {
     "base_uri": "https://localhost:8080/",
     "height": 279
    },
    "colab_type": "code",
    "id": "FScRVp7rTiQr",
    "outputId": "3bcc18e7-42d4-4749-cd35-52d000df9682"
   },
   "outputs": [
    {
     "data": {
      "image/png": "[encoded data removed]",
      "text/plain": [
       "<Figure size 432x288 with 1 Axes>"
      ]
     },
     "metadata": {
      "needs_background": "light",
      "tags": []
     },
     "output_type": "display_data"
    }
   ],
   "source": [
    "sns.countplot(x='SeriousDlqin2yrs',data=train)\n",
    "plt.show()"
   ]
  },
  {
   "cell_type": "code",
   "execution_count": 0,
   "metadata": {
    "colab": {
     "base_uri": "https://localhost:8080/",
     "height": 68
    },
    "colab_type": "code",
    "id": "vGo8lQC6Ud2y",
    "outputId": "d3aa5621-d2ee-4166-d49d-2a0210eb4350"
   },
   "outputs": [
    {
     "data": {
      "text/plain": [
       "0    0.93316\n",
       "1    0.06684\n",
       "Name: SeriousDlqin2yrs, dtype: float64"
      ]
     },
     "execution_count": 16,
     "metadata": {
      "tags": []
     },
     "output_type": "execute_result"
    }
   ],
   "source": [
    "train.SeriousDlqin2yrs.value_counts(normalize=True)"
   ]
  },
  {
   "cell_type": "markdown",
   "metadata": {
    "colab_type": "text",
    "id": "7r4dt2Ux8tVJ"
   },
   "source": [
    "Imputing the NA values"
   ]
  },
  {
   "cell_type": "code",
   "execution_count": 0,
   "metadata": {
    "colab": {},
    "colab_type": "code",
    "id": "UPLxu65UXFxu"
   },
   "outputs": [],
   "source": [
    "train['MonthlyIncome'].fillna(train['MonthlyIncome'].median(),inplace=True)\n",
    "train['NumberOfDependents'].fillna(train['NumberOfDependents'].mode()[0],inplace=True)\n",
    "test['MonthlyIncome'].fillna(test['MonthlyIncome'].median(),inplace=True)\n",
    "test['NumberOfDependents'].fillna(test['NumberOfDependents'].mode()[0],inplace=True)"
   ]
  },
  {
   "cell_type": "code",
   "execution_count": 0,
   "metadata": {
    "colab": {
     "base_uri": "https://localhost:8080/",
     "height": 221
    },
    "colab_type": "code",
    "id": "UugMudSIg5RJ",
    "outputId": "6bd1bfb6-4b2e-4269-fda2-059248d69041"
   },
   "outputs": [
    {
     "data": {
      "text/plain": [
       "SeriousDlqin2yrs                        101503\n",
       "RevolvingUtilizationOfUnsecuredLines         0\n",
       "age                                          0\n",
       "NumberOfTime30-59DaysPastDueNotWorse         0\n",
       "DebtRatio                                    0\n",
       "MonthlyIncome                                0\n",
       "NumberOfOpenCreditLinesAndLoans              0\n",
       "NumberOfTimes90DaysLate                      0\n",
       "NumberRealEstateLoansOrLines                 0\n",
       "NumberOfTime60-89DaysPastDueNotWorse         0\n",
       "NumberOfDependents                           0\n",
       "dtype: int64"
      ]
     },
     "execution_count": 18,
     "metadata": {
      "tags": []
     },
     "output_type": "execute_result"
    }
   ],
   "source": [
    "test.isnull().sum()"
   ]
  },
  {
   "cell_type": "code",
   "execution_count": 0,
   "metadata": {
    "colab": {},
    "colab_type": "code",
    "id": "M_Rob10ShzNV"
   },
   "outputs": [],
   "source": [
    "test = test.drop(columns = ['SeriousDlqin2yrs'])"
   ]
  },
  {
   "cell_type": "markdown",
   "metadata": {
    "colab_type": "text",
    "id": "Dx7pZp_A89o7"
   },
   "source": [
    "Removing outliers with IQR and Z scores"
   ]
  },
  {
   "cell_type": "code",
   "execution_count": 0,
   "metadata": {
    "colab": {
     "base_uri": "https://localhost:8080/",
     "height": 34
    },
    "colab_type": "code",
    "id": "AobygD5ok9ch",
    "outputId": "c817ba21-447a-4bea-80f1-bdeb7dd1ade2"
   },
   "outputs": [
    {
     "data": {
      "text/plain": [
       "(-1.5576689744999999, 2.146582664)"
      ]
     },
     "execution_count": 20,
     "metadata": {
      "tags": []
     },
     "output_type": "execute_result"
    }
   ],
   "source": [
    "q1 = np.percentile(train[\"RevolvingUtilizationOfUnsecuredLines\"],25)\n",
    "q3 = np.percentile(train[\"RevolvingUtilizationOfUnsecuredLines\"],75)\n",
    "iqr = q3-q1\n",
    "upper = q3+3*iqr\n",
    "lower = q1-3*iqr\n",
    "lower, upper"
   ]
  },
  {
   "cell_type": "code",
   "execution_count": 0,
   "metadata": {
    "colab": {},
    "colab_type": "code",
    "id": "B30cWnPrlVmZ"
   },
   "outputs": [],
   "source": [
    "train_iqr = train[(train[\"RevolvingUtilizationOfUnsecuredLines\"]<upper) & (train[\"RevolvingUtilizationOfUnsecuredLines\"]>lower)]"
   ]
  },
  {
   "cell_type": "code",
   "execution_count": 0,
   "metadata": {
    "colab": {
     "base_uri": "https://localhost:8080/",
     "height": 34
    },
    "colab_type": "code",
    "id": "bI7vFZWcqry-",
    "outputId": "290f15f9-78a4-4973-cd55-8af6b6570a0a"
   },
   "outputs": [
    {
     "name": "stdout",
     "output_type": "stream",
     "text": [
      "[0.17257784 0.17291193 0.17292996 ... 1.72529542 0.17297171 0.17284913]\n"
     ]
    }
   ],
   "source": [
    "from scipy import stats\n",
    "zscore = np.abs(stats.zscore(train_iqr[\"DebtRatio\"]))\n",
    "print(zscore)"
   ]
  },
  {
   "cell_type": "code",
   "execution_count": 0,
   "metadata": {
    "colab": {},
    "colab_type": "code",
    "id": "cJXSuhVqrR3N"
   },
   "outputs": [],
   "source": [
    "train_iqr1 = train_iqr[(zscore < 3)]"
   ]
  },
  {
   "cell_type": "code",
   "execution_count": 0,
   "metadata": {
    "colab": {
     "base_uri": "https://localhost:8080/",
     "height": 34
    },
    "colab_type": "code",
    "id": "k-OWIh4JrbLS",
    "outputId": "a3b87e96-a27f-402c-f1aa-1c702268f301"
   },
   "outputs": [
    {
     "data": {
      "text/plain": [
       "(149006, 11)"
      ]
     },
     "execution_count": 24,
     "metadata": {
      "tags": []
     },
     "output_type": "execute_result"
    }
   ],
   "source": [
    "train_iqr1.shape"
   ]
  },
  {
   "cell_type": "code",
   "execution_count": 0,
   "metadata": {
    "colab": {
     "base_uri": "https://localhost:8080/",
     "height": 334
    },
    "colab_type": "code",
    "id": "YLCBb0eGriAQ",
    "outputId": "1a5d4336-b6d3-4ae1-f7b0-23374da44ea5"
   },
   "outputs": [
    {
     "data": {
      "text/html": [
       "<div>\n",
       "<style scoped>\n",
       "    .dataframe tbody tr th:only-of-type {\n",
       "        vertical-align: middle;\n",
       "    }\n",
       "\n",
       "    .dataframe tbody tr th {\n",
       "        vertical-align: top;\n",
       "    }\n",
       "\n",
       "    .dataframe thead th {\n",
       "        text-align: right;\n",
       "    }\n",
       "</style>\n",
       "<table border=\"1\" class=\"dataframe\">\n",
       "  <thead>\n",
       "    <tr style=\"text-align: right;\">\n",
       "      <th></th>\n",
       "      <th>SeriousDlqin2yrs</th>\n",
       "      <th>RevolvingUtilizationOfUnsecuredLines</th>\n",
       "      <th>age</th>\n",
       "      <th>NumberOfTime30-59DaysPastDueNotWorse</th>\n",
       "      <th>DebtRatio</th>\n",
       "      <th>MonthlyIncome</th>\n",
       "      <th>NumberOfOpenCreditLinesAndLoans</th>\n",
       "      <th>NumberOfTimes90DaysLate</th>\n",
       "      <th>NumberRealEstateLoansOrLines</th>\n",
       "      <th>NumberOfTime60-89DaysPastDueNotWorse</th>\n",
       "      <th>NumberOfDependents</th>\n",
       "    </tr>\n",
       "  </thead>\n",
       "  <tbody>\n",
       "    <tr>\n",
       "      <th>count</th>\n",
       "      <td>149006.000000</td>\n",
       "      <td>149006.000000</td>\n",
       "      <td>149006.000000</td>\n",
       "      <td>149006.000000</td>\n",
       "      <td>149006.000000</td>\n",
       "      <td>1.490060e+05</td>\n",
       "      <td>149006.00000</td>\n",
       "      <td>149006.000000</td>\n",
       "      <td>149006.000000</td>\n",
       "      <td>149006.000000</td>\n",
       "      <td>149006.000000</td>\n",
       "    </tr>\n",
       "    <tr>\n",
       "      <th>mean</th>\n",
       "      <td>0.066648</td>\n",
       "      <td>0.320532</td>\n",
       "      <td>52.291076</td>\n",
       "      <td>0.421473</td>\n",
       "      <td>299.219578</td>\n",
       "      <td>6.422334e+03</td>\n",
       "      <td>8.43605</td>\n",
       "      <td>0.267016</td>\n",
       "      <td>1.007376</td>\n",
       "      <td>0.241413</td>\n",
       "      <td>0.738447</td>\n",
       "    </tr>\n",
       "    <tr>\n",
       "      <th>std</th>\n",
       "      <td>0.249413</td>\n",
       "      <td>0.356409</td>\n",
       "      <td>14.787380</td>\n",
       "      <td>4.206180</td>\n",
       "      <td>874.685548</td>\n",
       "      <td>1.292991e+04</td>\n",
       "      <td>5.13314</td>\n",
       "      <td>4.182746</td>\n",
       "      <td>1.108154</td>\n",
       "      <td>4.168859</td>\n",
       "      <td>1.107429</td>\n",
       "    </tr>\n",
       "    <tr>\n",
       "      <th>min</th>\n",
       "      <td>0.000000</td>\n",
       "      <td>0.000000</td>\n",
       "      <td>0.000000</td>\n",
       "      <td>0.000000</td>\n",
       "      <td>0.000000</td>\n",
       "      <td>0.000000e+00</td>\n",
       "      <td>0.00000</td>\n",
       "      <td>0.000000</td>\n",
       "      <td>0.000000</td>\n",
       "      <td>0.000000</td>\n",
       "      <td>0.000000</td>\n",
       "    </tr>\n",
       "    <tr>\n",
       "      <th>25%</th>\n",
       "      <td>0.000000</td>\n",
       "      <td>0.029708</td>\n",
       "      <td>41.000000</td>\n",
       "      <td>0.000000</td>\n",
       "      <td>0.174007</td>\n",
       "      <td>3.900000e+03</td>\n",
       "      <td>5.00000</td>\n",
       "      <td>0.000000</td>\n",
       "      <td>0.000000</td>\n",
       "      <td>0.000000</td>\n",
       "      <td>0.000000</td>\n",
       "    </tr>\n",
       "    <tr>\n",
       "      <th>50%</th>\n",
       "      <td>0.000000</td>\n",
       "      <td>0.152838</td>\n",
       "      <td>52.000000</td>\n",
       "      <td>0.000000</td>\n",
       "      <td>0.364517</td>\n",
       "      <td>5.400000e+03</td>\n",
       "      <td>8.00000</td>\n",
       "      <td>0.000000</td>\n",
       "      <td>1.000000</td>\n",
       "      <td>0.000000</td>\n",
       "      <td>0.000000</td>\n",
       "    </tr>\n",
       "    <tr>\n",
       "      <th>75%</th>\n",
       "      <td>0.000000</td>\n",
       "      <td>0.554525</td>\n",
       "      <td>63.000000</td>\n",
       "      <td>0.000000</td>\n",
       "      <td>0.843845</td>\n",
       "      <td>7.400000e+03</td>\n",
       "      <td>11.00000</td>\n",
       "      <td>0.000000</td>\n",
       "      <td>2.000000</td>\n",
       "      <td>0.000000</td>\n",
       "      <td>1.000000</td>\n",
       "    </tr>\n",
       "    <tr>\n",
       "      <th>max</th>\n",
       "      <td>1.000000</td>\n",
       "      <td>2.143095</td>\n",
       "      <td>109.000000</td>\n",
       "      <td>98.000000</td>\n",
       "      <td>6467.000000</td>\n",
       "      <td>3.008750e+06</td>\n",
       "      <td>58.00000</td>\n",
       "      <td>98.000000</td>\n",
       "      <td>54.000000</td>\n",
       "      <td>98.000000</td>\n",
       "      <td>20.000000</td>\n",
       "    </tr>\n",
       "  </tbody>\n",
       "</table>\n",
       "</div>"
      ],
      "text/plain": [
       "       SeriousDlqin2yrs  ...  NumberOfDependents\n",
       "count     149006.000000  ...       149006.000000\n",
       "mean           0.066648  ...            0.738447\n",
       "std            0.249413  ...            1.107429\n",
       "min            0.000000  ...            0.000000\n",
       "25%            0.000000  ...            0.000000\n",
       "50%            0.000000  ...            0.000000\n",
       "75%            0.000000  ...            1.000000\n",
       "max            1.000000  ...           20.000000\n",
       "\n",
       "[8 rows x 11 columns]"
      ]
     },
     "execution_count": 25,
     "metadata": {
      "tags": []
     },
     "output_type": "execute_result"
    }
   ],
   "source": [
    "train_iqr1.describe()"
   ]
  },
  {
   "cell_type": "code",
   "execution_count": 0,
   "metadata": {
    "colab": {
     "base_uri": "https://localhost:8080/",
     "height": 34
    },
    "colab_type": "code",
    "id": "d4u5m1TOr544",
    "outputId": "d6255747-6661-43c6-e31b-41e078bc59c1"
   },
   "outputs": [
    {
     "name": "stdout",
     "output_type": "stream",
     "text": [
      "[0.37528885 0.10020361 0.13754262 ... 0.10020361 0.10020361 0.10020361]\n"
     ]
    }
   ],
   "source": [
    "from scipy import stats\n",
    "zscore1 = np.abs(stats.zscore(train_iqr1[\"NumberOfTime30-59DaysPastDueNotWorse\"]))\n",
    "print(zscore1)"
   ]
  },
  {
   "cell_type": "code",
   "execution_count": 0,
   "metadata": {
    "colab": {},
    "colab_type": "code",
    "id": "vQzKshhEsN5C"
   },
   "outputs": [],
   "source": [
    "train_iqr1 = train_iqr1[(zscore1 < 3)]"
   ]
  },
  {
   "cell_type": "code",
   "execution_count": 0,
   "metadata": {
    "colab": {
     "base_uri": "https://localhost:8080/",
     "height": 334
    },
    "colab_type": "code",
    "id": "7hDY1ikhsTaC",
    "outputId": "e426787c-4e49-478c-eb28-2bfbbab8b06a"
   },
   "outputs": [
    {
     "data": {
      "text/html": [
       "<div>\n",
       "<style scoped>\n",
       "    .dataframe tbody tr th:only-of-type {\n",
       "        vertical-align: middle;\n",
       "    }\n",
       "\n",
       "    .dataframe tbody tr th {\n",
       "        vertical-align: top;\n",
       "    }\n",
       "\n",
       "    .dataframe thead th {\n",
       "        text-align: right;\n",
       "    }\n",
       "</style>\n",
       "<table border=\"1\" class=\"dataframe\">\n",
       "  <thead>\n",
       "    <tr style=\"text-align: right;\">\n",
       "      <th></th>\n",
       "      <th>SeriousDlqin2yrs</th>\n",
       "      <th>RevolvingUtilizationOfUnsecuredLines</th>\n",
       "      <th>age</th>\n",
       "      <th>NumberOfTime30-59DaysPastDueNotWorse</th>\n",
       "      <th>DebtRatio</th>\n",
       "      <th>MonthlyIncome</th>\n",
       "      <th>NumberOfOpenCreditLinesAndLoans</th>\n",
       "      <th>NumberOfTimes90DaysLate</th>\n",
       "      <th>NumberRealEstateLoansOrLines</th>\n",
       "      <th>NumberOfTime60-89DaysPastDueNotWorse</th>\n",
       "      <th>NumberOfDependents</th>\n",
       "    </tr>\n",
       "  </thead>\n",
       "  <tbody>\n",
       "    <tr>\n",
       "      <th>count</th>\n",
       "      <td>148737.000000</td>\n",
       "      <td>148737.000000</td>\n",
       "      <td>148737.000000</td>\n",
       "      <td>148737.000000</td>\n",
       "      <td>148737.000000</td>\n",
       "      <td>1.487370e+05</td>\n",
       "      <td>148737.000000</td>\n",
       "      <td>148737.000000</td>\n",
       "      <td>148737.000000</td>\n",
       "      <td>148737.000000</td>\n",
       "      <td>148737.000000</td>\n",
       "    </tr>\n",
       "    <tr>\n",
       "      <th>mean</th>\n",
       "      <td>0.065781</td>\n",
       "      <td>0.319303</td>\n",
       "      <td>52.323712</td>\n",
       "      <td>0.245063</td>\n",
       "      <td>299.750354</td>\n",
       "      <td>6.427011e+03</td>\n",
       "      <td>8.451293</td>\n",
       "      <td>0.090327</td>\n",
       "      <td>1.009197</td>\n",
       "      <td>0.064678</td>\n",
       "      <td>0.739191</td>\n",
       "    </tr>\n",
       "    <tr>\n",
       "      <th>std</th>\n",
       "      <td>0.247899</td>\n",
       "      <td>0.355557</td>\n",
       "      <td>14.770397</td>\n",
       "      <td>0.696673</td>\n",
       "      <td>875.386331</td>\n",
       "      <td>1.294070e+04</td>\n",
       "      <td>5.125237</td>\n",
       "      <td>0.483508</td>\n",
       "      <td>1.108326</td>\n",
       "      <td>0.329434</td>\n",
       "      <td>1.107784</td>\n",
       "    </tr>\n",
       "    <tr>\n",
       "      <th>min</th>\n",
       "      <td>0.000000</td>\n",
       "      <td>0.000000</td>\n",
       "      <td>0.000000</td>\n",
       "      <td>0.000000</td>\n",
       "      <td>0.000000</td>\n",
       "      <td>0.000000e+00</td>\n",
       "      <td>0.000000</td>\n",
       "      <td>0.000000</td>\n",
       "      <td>0.000000</td>\n",
       "      <td>0.000000</td>\n",
       "      <td>0.000000</td>\n",
       "    </tr>\n",
       "    <tr>\n",
       "      <th>25%</th>\n",
       "      <td>0.000000</td>\n",
       "      <td>0.029598</td>\n",
       "      <td>41.000000</td>\n",
       "      <td>0.000000</td>\n",
       "      <td>0.174984</td>\n",
       "      <td>3.900000e+03</td>\n",
       "      <td>5.000000</td>\n",
       "      <td>0.000000</td>\n",
       "      <td>0.000000</td>\n",
       "      <td>0.000000</td>\n",
       "      <td>0.000000</td>\n",
       "    </tr>\n",
       "    <tr>\n",
       "      <th>50%</th>\n",
       "      <td>0.000000</td>\n",
       "      <td>0.151936</td>\n",
       "      <td>52.000000</td>\n",
       "      <td>0.000000</td>\n",
       "      <td>0.365119</td>\n",
       "      <td>5.400000e+03</td>\n",
       "      <td>8.000000</td>\n",
       "      <td>0.000000</td>\n",
       "      <td>1.000000</td>\n",
       "      <td>0.000000</td>\n",
       "      <td>0.000000</td>\n",
       "    </tr>\n",
       "    <tr>\n",
       "      <th>75%</th>\n",
       "      <td>0.000000</td>\n",
       "      <td>0.550710</td>\n",
       "      <td>63.000000</td>\n",
       "      <td>0.000000</td>\n",
       "      <td>0.845654</td>\n",
       "      <td>7.411000e+03</td>\n",
       "      <td>11.000000</td>\n",
       "      <td>0.000000</td>\n",
       "      <td>2.000000</td>\n",
       "      <td>0.000000</td>\n",
       "      <td>1.000000</td>\n",
       "    </tr>\n",
       "    <tr>\n",
       "      <th>max</th>\n",
       "      <td>1.000000</td>\n",
       "      <td>2.143095</td>\n",
       "      <td>109.000000</td>\n",
       "      <td>13.000000</td>\n",
       "      <td>6467.000000</td>\n",
       "      <td>3.008750e+06</td>\n",
       "      <td>58.000000</td>\n",
       "      <td>17.000000</td>\n",
       "      <td>54.000000</td>\n",
       "      <td>11.000000</td>\n",
       "      <td>20.000000</td>\n",
       "    </tr>\n",
       "  </tbody>\n",
       "</table>\n",
       "</div>"
      ],
      "text/plain": [
       "       SeriousDlqin2yrs  ...  NumberOfDependents\n",
       "count     148737.000000  ...       148737.000000\n",
       "mean           0.065781  ...            0.739191\n",
       "std            0.247899  ...            1.107784\n",
       "min            0.000000  ...            0.000000\n",
       "25%            0.000000  ...            0.000000\n",
       "50%            0.000000  ...            0.000000\n",
       "75%            0.000000  ...            1.000000\n",
       "max            1.000000  ...           20.000000\n",
       "\n",
       "[8 rows x 11 columns]"
      ]
     },
     "execution_count": 28,
     "metadata": {
      "tags": []
     },
     "output_type": "execute_result"
    }
   ],
   "source": [
    "train_iqr1.describe()"
   ]
  },
  {
   "cell_type": "code",
   "execution_count": 0,
   "metadata": {
    "colab": {
     "base_uri": "https://localhost:8080/",
     "height": 279
    },
    "colab_type": "code",
    "id": "2rSSOoD0D8zw",
    "outputId": "360beee1-b0e5-4bb8-fb63-e7b470d34449"
   },
   "outputs": [
    {
     "data": {
      "image/png": "[encoded data removed]",
      "text/plain": [
       "<Figure size 720x288 with 4 Axes>"
      ]
     },
     "metadata": {
      "needs_background": "light",
      "tags": []
     },
     "output_type": "display_data"
    }
   ],
   "source": [
    "draw_boxplots_tran(train_iqr1,'RevolvingUtilizationOfUnsecuredLines','age','DebtRatio','NumberOfTime30-59DaysPastDueNotWorse')"
   ]
  },
  {
   "cell_type": "code",
   "execution_count": 0,
   "metadata": {
    "colab": {},
    "colab_type": "code",
    "id": "RsRahw3qbExs"
   },
   "outputs": [],
   "source": [
    "feature_names = ['RevolvingUtilizationOfUnsecuredLines', 'age',\n",
    "       'NumberOfTime30-59DaysPastDueNotWorse', 'DebtRatio','MonthlyIncome',\n",
    "       'NumberOfOpenCreditLinesAndLoans', 'NumberOfTimes90DaysLate',\n",
    "       'NumberRealEstateLoansOrLines', 'NumberOfTime60-89DaysPastDueNotWorse','NumberOfDependents']"
   ]
  },
  {
   "cell_type": "code",
   "execution_count": 0,
   "metadata": {
    "colab": {},
    "colab_type": "code",
    "id": "jkQVXUsUs1jx"
   },
   "outputs": [],
   "source": [
    "y= train_iqr1[\"SeriousDlqin2yrs\"]\n",
    "X= train_iqr1.drop('SeriousDlqin2yrs',axis=1)"
   ]
  },
  {
   "cell_type": "code",
   "execution_count": 0,
   "metadata": {
    "colab": {
     "base_uri": "https://localhost:8080/",
     "height": 51
    },
    "colab_type": "code",
    "id": "X_ENefLwtCow",
    "outputId": "21f14a71-3378-4e1b-b264-200f2dbe645c"
   },
   "outputs": [
    {
     "name": "stdout",
     "output_type": "stream",
     "text": [
      "(148737, 10)\n",
      "(148737,)\n"
     ]
    }
   ],
   "source": [
    "print(X.shape)\n",
    "print(y.shape)"
   ]
  },
  {
   "cell_type": "markdown",
   "metadata": {
    "colab_type": "text",
    "id": "HPFHdSKR9WKH"
   },
   "source": [
    "Standardization:"
   ]
  },
  {
   "cell_type": "code",
   "execution_count": 0,
   "metadata": {
    "colab": {},
    "colab_type": "code",
    "id": "eJzbz2fZSIoa"
   },
   "outputs": [],
   "source": [
    "scaler = StandardScaler()\n",
    "X1 = scaler.fit_transform(X)"
   ]
  },
  {
   "cell_type": "markdown",
   "metadata": {
    "colab_type": "text",
    "id": "9uSzHi4l9eFJ"
   },
   "source": [
    "Train Test Split"
   ]
  },
  {
   "cell_type": "code",
   "execution_count": 0,
   "metadata": {
    "colab": {},
    "colab_type": "code",
    "id": "BUe3cVc5SXb7"
   },
   "outputs": [],
   "source": [
    "X_train, X_test, y_train, y_test = train_test_split(X1, y, test_size=0.20,random_state=121) "
   ]
  },
  {
   "cell_type": "markdown",
   "metadata": {
    "colab_type": "text",
    "id": "5sLZkCgL9njy"
   },
   "source": [
    "Model Building"
   ]
  },
  {
   "cell_type": "markdown",
   "metadata": {
    "colab_type": "text",
    "id": "S5dKXFOg9t3X"
   },
   "source": [
    "Random Forest Classifier"
   ]
  },
  {
   "cell_type": "code",
   "execution_count": 0,
   "metadata": {
    "colab": {},
    "colab_type": "code",
    "id": "YomfD3KX10Sv"
   },
   "outputs": [],
   "source": [
    "from sklearn.ensemble import RandomForestClassifier\n",
    "from sklearn import tree"
   ]
  },
  {
   "cell_type": "code",
   "execution_count": 0,
   "metadata": {
    "colab": {},
    "colab_type": "code",
    "id": "g4AapZlU28an"
   },
   "outputs": [],
   "source": [
    "rfc = RandomForestClassifier(n_jobs=-1, max_features='sqrt') \n",
    " \n",
    "# Use a grid over parameters of interest\n",
    "param_grid = { \n",
    "           \"n_estimators\" : [9, 18, 27, 36, 100, 150],\n",
    "           \"max_depth\" : [2,3,5,7,9],\n",
    "           \"min_samples_leaf\" : [2, 4]}"
   ]
  },
  {
   "cell_type": "code",
   "execution_count": 0,
   "metadata": {
    "colab": {},
    "colab_type": "code",
    "id": "3JauM39f3DF1"
   },
   "outputs": [],
   "source": [
    "clf_randomgrid = RandomizedSearchCV(rfc, param_distributions=param_grid, cv=5)"
   ]
  },
  {
   "cell_type": "code",
   "execution_count": 0,
   "metadata": {
    "colab": {
     "base_uri": "https://localhost:8080/",
     "height": 459
    },
    "colab_type": "code",
    "id": "bVOXQqu13J6r",
    "outputId": "870583ad-3fcd-4a0f-d310-4378b99de003"
   },
   "outputs": [
    {
     "data": {
      "text/plain": [
       "RandomizedSearchCV(cv=5, error_score=nan,\n",
       "                   estimator=RandomForestClassifier(bootstrap=True,\n",
       "                                                    ccp_alpha=0.0,\n",
       "                                                    class_weight=None,\n",
       "                                                    criterion='gini',\n",
       "                                                    max_depth=None,\n",
       "                                                    max_features='sqrt',\n",
       "                                                    max_leaf_nodes=None,\n",
       "                                                    max_samples=None,\n",
       "                                                    min_impurity_decrease=0.0,\n",
       "                                                    min_impurity_split=None,\n",
       "                                                    min_samples_leaf=1,\n",
       "                                                    min_samples_split=2,\n",
       "                                                    min_weight_fraction_leaf=0.0,\n",
       "                                                    n_estimators=100, n_jobs=-1,\n",
       "                                                    oob_score=False,\n",
       "                                                    random_state=None,\n",
       "                                                    verbose=0,\n",
       "                                                    warm_start=False),\n",
       "                   iid='deprecated', n_iter=10, n_jobs=None,\n",
       "                   param_distributions={'max_depth': [2, 3, 5, 7, 9],\n",
       "                                        'min_samples_leaf': [2, 4],\n",
       "                                        'n_estimators': [9, 18, 27, 36, 100,\n",
       "                                                         150]},\n",
       "                   pre_dispatch='2*n_jobs', random_state=None, refit=True,\n",
       "                   return_train_score=False, scoring=None, verbose=0)"
      ]
     },
     "execution_count": 42,
     "metadata": {
      "tags": []
     },
     "output_type": "execute_result"
    }
   ],
   "source": [
    "clf_randomgrid.fit(X=X_train, y=y_train)"
   ]
  },
  {
   "cell_type": "code",
   "execution_count": 0,
   "metadata": {
    "colab": {},
    "colab_type": "code",
    "id": "UqfHc76W3QD7"
   },
   "outputs": [],
   "source": [
    "best_est = clf_randomgrid.best_estimator_"
   ]
  },
  {
   "cell_type": "code",
   "execution_count": 0,
   "metadata": {
    "colab": {},
    "colab_type": "code",
    "id": "hMpJl6gp3tBa"
   },
   "outputs": [],
   "source": [
    "prob_rfc=best_est.predict_proba(X_test)\n",
    "prob_rfc = prob_rfc[:,1]"
   ]
  },
  {
   "cell_type": "code",
   "execution_count": 0,
   "metadata": {
    "colab": {},
    "colab_type": "code",
    "id": "9CnFUwGkovGx"
   },
   "outputs": [],
   "source": [
    "prob_rfctrain=best_est.predict_proba(X_train)\n",
    "prob_rfctrain = prob_rfctrain[:,1]"
   ]
  },
  {
   "cell_type": "code",
   "execution_count": 0,
   "metadata": {
    "colab": {},
    "colab_type": "code",
    "id": "UadxHHBf4K-E"
   },
   "outputs": [],
   "source": [
    "from sklearn.metrics import auc,roc_curve\n",
    "from sklearn.metrics import roc_auc_score"
   ]
  },
  {
   "cell_type": "code",
   "execution_count": 0,
   "metadata": {
    "colab": {
     "base_uri": "https://localhost:8080/",
     "height": 34
    },
    "colab_type": "code",
    "id": "opctccL1qnbP",
    "outputId": "754ec4f2-f5be-4f24-b3b8-1d58a132cc08"
   },
   "outputs": [
    {
     "data": {
      "text/plain": [
       "0.8676393295838645"
      ]
     },
     "execution_count": 47,
     "metadata": {
      "tags": []
     },
     "output_type": "execute_result"
    }
   ],
   "source": [
    "roc_auc_score(y_train, prob_rfctrain)"
   ]
  },
  {
   "cell_type": "code",
   "execution_count": 0,
   "metadata": {
    "colab": {
     "base_uri": "https://localhost:8080/",
     "height": 513
    },
    "colab_type": "code",
    "id": "W3gP9KtC33Jo",
    "outputId": "a9e0d506-446d-49c4-805c-84caec986d78"
   },
   "outputs": [
    {
     "data": {
      "image/png": "[encoded data removed]",
      "text/plain": [
       "<Figure size 720x576 with 1 Axes>"
      ]
     },
     "metadata": {
      "needs_background": "light",
      "tags": []
     },
     "output_type": "display_data"
    }
   ],
   "source": [
    "fpr,tpr,_ = roc_curve(y_test, prob_rfc)\n",
    "roc_auc = auc(fpr, tpr)\n",
    "plt.figure(figsize=(10,8))\n",
    "plt.title('Receiver Operating Characteristic')\n",
    "sns.lineplot(fpr, tpr, label = 'AUC = %0.2f' % roc_auc)\n",
    "plt.legend(loc = 'lower right')\n",
    "plt.plot([0, 1], [0, 1],'r--')\n",
    "plt.ylabel('True Positive Rate')\n",
    "plt.xlabel('False Positive Rate')\n",
    "plt.show()"
   ]
  },
  {
   "cell_type": "code",
   "execution_count": 0,
   "metadata": {
    "colab": {
     "base_uri": "https://localhost:8080/",
     "height": 34
    },
    "colab_type": "code",
    "id": "PQ4BvkaC4Jg9",
    "outputId": "75940ec7-6fab-4651-e94a-c9d1679fc03b"
   },
   "outputs": [
    {
     "name": "stdout",
     "output_type": "stream",
     "text": [
      "[9 4 3 5 1 7 0 8 2 6]\n"
     ]
    }
   ],
   "source": [
    "importances = best_est.feature_importances_\n",
    "indices = np.argsort(importances)\n",
    "print(indices)"
   ]
  },
  {
   "cell_type": "code",
   "execution_count": 0,
   "metadata": {
    "colab": {},
    "colab_type": "code",
    "id": "8VR5dGwC4p54"
   },
   "outputs": [],
   "source": [
    "import matplotlib.pyplot as plt\n",
    "%matplotlib inline\n",
    "features = X_train.columns\n",
    "\n",
    "plt.title('Feature Importances')\n",
    "plt.barh(range(len(indices)),importances[indices], color='b')\n",
    "plt.yticks(range(len(indices)), [features[i] for i in indices])\n",
    "plt.xlabel('Relative Importance')\n",
    "plt.show()"
   ]
  },
  {
   "cell_type": "code",
   "execution_count": 0,
   "metadata": {
    "colab": {},
    "colab_type": "code",
    "id": "zmEJDqUQ4rcT"
   },
   "outputs": [],
   "source": [
    "sub1 = best_est.predict_proba(test)[:,1]"
   ]
  },
  {
   "cell_type": "code",
   "execution_count": 0,
   "metadata": {
    "colab": {},
    "colab_type": "code",
    "id": "xDpMePml6L3w"
   },
   "outputs": [],
   "source": [
    "submission = pd.read_csv(\"/content/drive/My Drive/credit risk/sampleEntry.csv\")"
   ]
  },
  {
   "cell_type": "code",
   "execution_count": 0,
   "metadata": {
    "colab": {
     "base_uri": "https://localhost:8080/",
     "height": 204
    },
    "colab_type": "code",
    "id": "JPVDUABm-aqU",
    "outputId": "60be877d-0e64-429f-a069-de3666320b77"
   },
   "outputs": [
    {
     "data": {
      "text/html": [
       "<div>\n",
       "<style scoped>\n",
       "    .dataframe tbody tr th:only-of-type {\n",
       "        vertical-align: middle;\n",
       "    }\n",
       "\n",
       "    .dataframe tbody tr th {\n",
       "        vertical-align: top;\n",
       "    }\n",
       "\n",
       "    .dataframe thead th {\n",
       "        text-align: right;\n",
       "    }\n",
       "</style>\n",
       "<table border=\"1\" class=\"dataframe\">\n",
       "  <thead>\n",
       "    <tr style=\"text-align: right;\">\n",
       "      <th></th>\n",
       "      <th>Id</th>\n",
       "      <th>Probability</th>\n",
       "    </tr>\n",
       "  </thead>\n",
       "  <tbody>\n",
       "    <tr>\n",
       "      <th>0</th>\n",
       "      <td>1</td>\n",
       "      <td>0.058912</td>\n",
       "    </tr>\n",
       "    <tr>\n",
       "      <th>1</th>\n",
       "      <td>2</td>\n",
       "      <td>0.094222</td>\n",
       "    </tr>\n",
       "    <tr>\n",
       "      <th>2</th>\n",
       "      <td>3</td>\n",
       "      <td>0.066433</td>\n",
       "    </tr>\n",
       "    <tr>\n",
       "      <th>3</th>\n",
       "      <td>4</td>\n",
       "      <td>0.167680</td>\n",
       "    </tr>\n",
       "    <tr>\n",
       "      <th>4</th>\n",
       "      <td>5</td>\n",
       "      <td>0.058912</td>\n",
       "    </tr>\n",
       "  </tbody>\n",
       "</table>\n",
       "</div>"
      ],
      "text/plain": [
       "   Id  Probability\n",
       "0   1     0.058912\n",
       "1   2     0.094222\n",
       "2   3     0.066433\n",
       "3   4     0.167680\n",
       "4   5     0.058912"
      ]
     },
     "execution_count": 55,
     "metadata": {
      "tags": []
     },
     "output_type": "execute_result"
    }
   ],
   "source": [
    "submission[\"Probability\"]=sub1\n",
    "submission.head()"
   ]
  },
  {
   "cell_type": "code",
   "execution_count": 0,
   "metadata": {
    "colab": {},
    "colab_type": "code",
    "id": "zwAZPqpB-r9c"
   },
   "outputs": [],
   "source": [
    "submission.to_csv('submission1rfc.csv', index=False, header=True) #.865 scorecard"
   ]
  },
  {
   "cell_type": "markdown",
   "metadata": {
    "colab_type": "text",
    "id": "8bSoQb9uAu7f"
   },
   "source": [
    "Model2: Logistic Regression"
   ]
  },
  {
   "cell_type": "code",
   "execution_count": 0,
   "metadata": {
    "colab": {},
    "colab_type": "code",
    "id": "dWrG9TWLuVsR"
   },
   "outputs": [],
   "source": [
    "logr = LogisticRegression() "
   ]
  },
  {
   "cell_type": "code",
   "execution_count": 0,
   "metadata": {
    "colab": {
     "base_uri": "https://localhost:8080/",
     "height": 102
    },
    "colab_type": "code",
    "id": "lJJW_Ofy65oB",
    "outputId": "9808b37e-792c-4d5e-a584-80e5a78299cb"
   },
   "outputs": [
    {
     "data": {
      "text/plain": [
       "LogisticRegression(C=1.0, class_weight=None, dual=False, fit_intercept=True,\n",
       "                   intercept_scaling=1, l1_ratio=None, max_iter=100,\n",
       "                   multi_class='auto', n_jobs=None, penalty='l2',\n",
       "                   random_state=None, solver='lbfgs', tol=0.0001, verbose=0,\n",
       "                   warm_start=False)"
      ]
     },
     "execution_count": 70,
     "metadata": {
      "tags": []
     },
     "output_type": "execute_result"
    }
   ],
   "source": [
    "logr.fit(X=X_train, y=y_train)"
   ]
  },
  {
   "cell_type": "code",
   "execution_count": 0,
   "metadata": {
    "colab": {},
    "colab_type": "code",
    "id": "P8ozaV1AurvK"
   },
   "outputs": [],
   "source": [
    "prob_log=logr.predict_proba(X_test)\n",
    "prob_log = prob_log[:,1]"
   ]
  },
  {
   "cell_type": "code",
   "execution_count": 0,
   "metadata": {
    "colab": {},
    "colab_type": "code",
    "id": "hBk8lKpvsHQ3"
   },
   "outputs": [],
   "source": [
    "prob_logtrain=logr.predict_proba(X_train)\n",
    "prob_logtrain = prob_logtrain[:,1]"
   ]
  },
  {
   "cell_type": "code",
   "execution_count": 0,
   "metadata": {
    "colab": {
     "base_uri": "https://localhost:8080/",
     "height": 34
    },
    "colab_type": "code",
    "id": "vyX6S7u9snKB",
    "outputId": "2043a24f-d3ed-4695-a7ed-60d9deb0c011"
   },
   "outputs": [
    {
     "data": {
      "text/plain": [
       "0.8511095190928145"
      ]
     },
     "execution_count": 73,
     "metadata": {
      "tags": []
     },
     "output_type": "execute_result"
    }
   ],
   "source": [
    "roc_auc_score(y_train, prob_logtrain)"
   ]
  },
  {
   "cell_type": "code",
   "execution_count": 0,
   "metadata": {
    "colab": {
     "base_uri": "https://localhost:8080/",
     "height": 34
    },
    "colab_type": "code",
    "id": "sSCjT12hsw-_",
    "outputId": "72487aad-9da8-4981-8493-bfba445d70cf"
   },
   "outputs": [
    {
     "data": {
      "text/plain": [
       "0.8480729292585373"
      ]
     },
     "execution_count": 74,
     "metadata": {
      "tags": []
     },
     "output_type": "execute_result"
    }
   ],
   "source": [
    "roc_auc_score(y_test, prob_log)"
   ]
  },
  {
   "cell_type": "code",
   "execution_count": 0,
   "metadata": {
    "colab": {
     "base_uri": "https://localhost:8080/",
     "height": 513
    },
    "colab_type": "code",
    "id": "8uMMGjhzu6OC",
    "outputId": "eb10a074-43eb-4fb8-f876-bbc93feb02a9"
   },
   "outputs": [
    {
     "data": {
      "image/png": "[encoded data removed]",
      "text/plain": [
       "<Figure size 720x576 with 1 Axes>"
      ]
     },
     "metadata": {
      "needs_background": "light",
      "tags": []
     },
     "output_type": "display_data"
    }
   ],
   "source": [
    "fpr,tpr,_ = roc_curve(y_test, prob_log)\n",
    "roc_auc = auc(fpr, tpr)\n",
    "plt.figure(figsize=(10,8))\n",
    "plt.title('Receiver Operating Characteristic')\n",
    "sns.lineplot(fpr, tpr, label = 'AUC = %0.2f' % roc_auc)\n",
    "plt.legend(loc = 'lower right')\n",
    "plt.plot([0, 1], [0, 1],'r--')\n",
    "plt.ylabel('True Positive Rate')\n",
    "plt.xlabel('False Positive Rate')\n",
    "plt.show()"
   ]
  },
  {
   "cell_type": "markdown",
   "metadata": {
    "colab_type": "text",
    "id": "Dhjjqbz6A38M"
   },
   "source": [
    "Model3: KNNClassifier"
   ]
  },
  {
   "cell_type": "code",
   "execution_count": 0,
   "metadata": {
    "colab": {},
    "colab_type": "code",
    "id": "39MhpolgvJmP"
   },
   "outputs": [],
   "source": [
    "from sklearn.neighbors import KNeighborsClassifier\n"
   ]
  },
  {
   "cell_type": "code",
   "execution_count": 0,
   "metadata": {
    "colab": {},
    "colab_type": "code",
    "id": "EpwnNknRwTiJ"
   },
   "outputs": [],
   "source": [
    "neigh = KNeighborsClassifier(n_neighbors=3)"
   ]
  },
  {
   "cell_type": "code",
   "execution_count": 0,
   "metadata": {
    "colab": {
     "base_uri": "https://localhost:8080/",
     "height": 68
    },
    "colab_type": "code",
    "id": "fxujmGgHxEjG",
    "outputId": "92a6e783-dd91-4c20-8d12-f2a8f64485c7"
   },
   "outputs": [
    {
     "data": {
      "text/plain": [
       "KNeighborsClassifier(algorithm='auto', leaf_size=30, metric='minkowski',\n",
       "                     metric_params=None, n_jobs=None, n_neighbors=3, p=2,\n",
       "                     weights='uniform')"
      ]
     },
     "execution_count": 78,
     "metadata": {
      "tags": []
     },
     "output_type": "execute_result"
    }
   ],
   "source": [
    "neigh.fit(X_train,y_train)"
   ]
  },
  {
   "cell_type": "code",
   "execution_count": 0,
   "metadata": {
    "colab": {},
    "colab_type": "code",
    "id": "POfJZ_kQxeFQ"
   },
   "outputs": [],
   "source": [
    "prob_knn=neigh.predict_proba(X_test)\n",
    "prob_knn = prob_knn[:,1]"
   ]
  },
  {
   "cell_type": "code",
   "execution_count": 0,
   "metadata": {
    "colab": {},
    "colab_type": "code",
    "id": "QCxnlrIqtZ0m"
   },
   "outputs": [],
   "source": [
    "prob_knntrain = neigh.predict_proba(X_train)[:,1]"
   ]
  },
  {
   "cell_type": "code",
   "execution_count": 0,
   "metadata": {
    "colab": {
     "base_uri": "https://localhost:8080/",
     "height": 34
    },
    "colab_type": "code",
    "id": "qq-j7Scstz_T",
    "outputId": "7d5a37f3-6a74-4540-9165-67318b9a5556"
   },
   "outputs": [
    {
     "data": {
      "text/plain": [
       "0.9688016965580819"
      ]
     },
     "execution_count": 81,
     "metadata": {
      "tags": []
     },
     "output_type": "execute_result"
    }
   ],
   "source": [
    "roc_auc_score(y_train, prob_knntrain)"
   ]
  },
  {
   "cell_type": "code",
   "execution_count": 0,
   "metadata": {
    "colab": {
     "base_uri": "https://localhost:8080/",
     "height": 34
    },
    "colab_type": "code",
    "id": "HU7VH1AuuNTV",
    "outputId": "88632215-249c-4215-f9f6-d93aaee73026"
   },
   "outputs": [
    {
     "data": {
      "text/plain": [
       "0.6915999146189686"
      ]
     },
     "execution_count": 82,
     "metadata": {
      "tags": []
     },
     "output_type": "execute_result"
    }
   ],
   "source": [
    "roc_auc_score(y_test, prob_knn)"
   ]
  },
  {
   "cell_type": "code",
   "execution_count": 0,
   "metadata": {
    "colab": {
     "base_uri": "https://localhost:8080/",
     "height": 513
    },
    "colab_type": "code",
    "id": "soJvf8NfxmS1",
    "outputId": "8d930658-be7a-4e0d-bbcb-10ca9af2257d"
   },
   "outputs": [
    {
     "data": {
      "image/png": "[encoded data removed]",
      "text/plain": [
       "<Figure size 720x576 with 1 Axes>"
      ]
     },
     "metadata": {
      "needs_background": "light",
      "tags": []
     },
     "output_type": "display_data"
    }
   ],
   "source": [
    "fpr,tpr,_ = roc_curve(y_test, prob_knn)\n",
    "roc_auc = auc(fpr, tpr)\n",
    "plt.figure(figsize=(10,8))\n",
    "plt.title('Receiver Operating Characteristic')\n",
    "sns.lineplot(fpr, tpr, label = 'AUC = %0.2f' % roc_auc)\n",
    "plt.legend(loc = 'lower right')\n",
    "plt.plot([0, 1], [0, 1],'r--')\n",
    "plt.ylabel('True Positive Rate')\n",
    "plt.xlabel('False Positive Rate')\n",
    "plt.show()"
   ]
  },
  {
   "cell_type": "markdown",
   "metadata": {
    "colab_type": "text",
    "id": "JlnHuGkBBDif"
   },
   "source": [
    "KNNClassifier with GridSearchCV"
   ]
  },
  {
   "cell_type": "code",
   "execution_count": 0,
   "metadata": {
    "colab": {},
    "colab_type": "code",
    "id": "_sENMSJOyk71"
   },
   "outputs": [],
   "source": [
    "model_KNN = KNeighborsClassifier()\n",
    "\n",
    "neighbors = [1,2,3,4,5,6,7,8,9,10,11,12,13,14,15,16,17,18,19,20]\n",
    "param_grid = dict(n_neighbors=neighbors)"
   ]
  },
  {
   "cell_type": "code",
   "execution_count": 0,
   "metadata": {
    "colab": {},
    "colab_type": "code",
    "id": "iW0ZvnyByscO"
   },
   "outputs": [],
   "source": [
    "KNN_GridSearch = GridSearchCV(model_KNN,param_grid=param_grid,cv=10)"
   ]
  },
  {
   "cell_type": "code",
   "execution_count": 0,
   "metadata": {
    "colab": {
     "base_uri": "https://localhost:8080/",
     "height": 204
    },
    "colab_type": "code",
    "id": "SdAwHv02y0cg",
    "outputId": "9c3a1aa0-14b1-4f9e-b75b-f0cd3bb6f5a0"
   },
   "outputs": [
    {
     "data": {
      "text/plain": [
       "GridSearchCV(cv=10, error_score=nan,\n",
       "             estimator=KNeighborsClassifier(algorithm='auto', leaf_size=30,\n",
       "                                            metric='minkowski',\n",
       "                                            metric_params=None, n_jobs=None,\n",
       "                                            n_neighbors=5, p=2,\n",
       "                                            weights='uniform'),\n",
       "             iid='deprecated', n_jobs=None,\n",
       "             param_grid={'n_neighbors': [1, 2, 3, 4, 5, 6, 7, 8, 9, 10, 11, 12,\n",
       "                                         13, 14, 15, 16, 17, 18, 19, 20]},\n",
       "             pre_dispatch='2*n_jobs', refit=True, return_train_score=False,\n",
       "             scoring=None, verbose=0)"
      ]
     },
     "execution_count": 86,
     "metadata": {
      "tags": []
     },
     "output_type": "execute_result"
    }
   ],
   "source": [
    "KNN_GridSearch.fit(X_train,y_train)"
   ]
  },
  {
   "cell_type": "code",
   "execution_count": 0,
   "metadata": {
    "colab": {
     "base_uri": "https://localhost:8080/",
     "height": 34
    },
    "colab_type": "code",
    "id": "Puk5ql1S09Zs",
    "outputId": "74d6be6e-99f4-4372-9125-0ede6bab4b40"
   },
   "outputs": [
    {
     "data": {
      "text/plain": [
       "0.8117500429326521"
      ]
     },
     "execution_count": 87,
     "metadata": {
      "tags": []
     },
     "output_type": "execute_result"
    }
   ],
   "source": [
    "prob_knn1=KNN_GridSearch.predict_proba(X_test)\n",
    "prob_knn1 = prob_knn1[:,1]\n",
    "roc_auc_score(y_test, prob_knn1)"
   ]
  },
  {
   "cell_type": "code",
   "execution_count": 0,
   "metadata": {
    "colab": {
     "base_uri": "https://localhost:8080/",
     "height": 34
    },
    "colab_type": "code",
    "id": "vc1ZPMbPwrES",
    "outputId": "f7685239-f57e-452f-e44f-26e9e619c736"
   },
   "outputs": [
    {
     "data": {
      "text/plain": [
       "0.909445124569417"
      ]
     },
     "execution_count": 88,
     "metadata": {
      "tags": []
     },
     "output_type": "execute_result"
    }
   ],
   "source": [
    "prob_knntrain1=KNN_GridSearch.predict_proba(X_train)[:,1]\n",
    "roc_auc_score(y_train, prob_knntrain1)"
   ]
  },
  {
   "cell_type": "markdown",
   "metadata": {
    "colab_type": "text",
    "id": "G1G--8Z8BNVj"
   },
   "source": [
    "SVM"
   ]
  },
  {
   "cell_type": "code",
   "execution_count": 0,
   "metadata": {
    "colab": {},
    "colab_type": "code",
    "id": "lE2qUSMt2kL4"
   },
   "outputs": [],
   "source": [
    "from sklearn.svm import SVC"
   ]
  },
  {
   "cell_type": "code",
   "execution_count": 0,
   "metadata": {
    "colab": {},
    "colab_type": "code",
    "id": "2B-n5BA543KK"
   },
   "outputs": [],
   "source": [
    "svm1 = SVC(kernel='rbf',C=1.0,probability=True)"
   ]
  },
  {
   "cell_type": "code",
   "execution_count": 0,
   "metadata": {
    "colab": {
     "base_uri": "https://localhost:8080/",
     "height": 85
    },
    "colab_type": "code",
    "id": "GHLnE1dZOWsn",
    "outputId": "af786cab-6481-4ed2-90c4-d4c0eaa8f105"
   },
   "outputs": [
    {
     "data": {
      "text/plain": [
       "SVC(C=1.0, break_ties=False, cache_size=200, class_weight=None, coef0=0.0,\n",
       "    decision_function_shape='ovr', degree=3, gamma='scale', kernel='rbf',\n",
       "    max_iter=-1, probability=True, random_state=None, shrinking=True, tol=0.001,\n",
       "    verbose=False)"
      ]
     },
     "execution_count": 91,
     "metadata": {
      "tags": []
     },
     "output_type": "execute_result"
    }
   ],
   "source": [
    "svm1.fit(X_train,y_train)"
   ]
  },
  {
   "cell_type": "code",
   "execution_count": 0,
   "metadata": {
    "colab": {
     "base_uri": "https://localhost:8080/",
     "height": 34
    },
    "colab_type": "code",
    "id": "2QlLU_-K-ufI",
    "outputId": "54e9d960-1088-409c-cdac-70a15c0bdf05"
   },
   "outputs": [
    {
     "data": {
      "text/plain": [
       "0.6511155970507039"
      ]
     },
     "execution_count": 93,
     "metadata": {
      "tags": []
     },
     "output_type": "execute_result"
    }
   ],
   "source": [
    "prob_svm=svm1.predict_proba(X_test)\n",
    "prob_svm = prob_svm[:,1]\n",
    "roc_auc_score(y_test, prob_svm)"
   ]
  },
  {
   "cell_type": "code",
   "execution_count": 0,
   "metadata": {
    "colab": {
     "base_uri": "https://localhost:8080/",
     "height": 34
    },
    "colab_type": "code",
    "id": "FuV2_vve8n4y",
    "outputId": "eda47282-da2b-4118-cbf3-27e1618c9ea9"
   },
   "outputs": [
    {
     "data": {
      "text/plain": [
       "0.7089074752671491"
      ]
     },
     "execution_count": 94,
     "metadata": {
      "tags": []
     },
     "output_type": "execute_result"
    }
   ],
   "source": [
    "prob_svmtrain=svm1.predict_proba(X_train)[:,1]\n",
    "roc_auc_score(y_train, prob_svmtrain)\n"
   ]
  },
  {
   "cell_type": "markdown",
   "metadata": {
    "colab_type": "text",
    "id": "qnGaXkbWBWjk"
   },
   "source": [
    "XGBoost"
   ]
  },
  {
   "cell_type": "code",
   "execution_count": 0,
   "metadata": {
    "colab": {},
    "colab_type": "code",
    "id": "do7-7eGAJNrk"
   },
   "outputs": [],
   "source": [
    "from sklearn.tree import DecisionTreeClassifier\n",
    "from sklearn.ensemble import GradientBoostingClassifier\n",
    "from sklearn.ensemble import AdaBoostClassifier\n",
    "from xgboost import XGBClassifier"
   ]
  },
  {
   "cell_type": "code",
   "execution_count": 0,
   "metadata": {
    "colab": {},
    "colab_type": "code",
    "id": "kUueikrnJ_vM"
   },
   "outputs": [],
   "source": [
    "xgbc = XGBClassifier(n_jobs=-1) \n",
    " \n",
    "# Use a grid over parameters of interest\n",
    "param_grid = {\n",
    "                  'n_estimators' :[100,150,200,250,300],\n",
    "                  \"learning_rate\" : [0.001,0.01,0.0001,0.05, 0.10, 0.15, 0.20, 0.25, 0.30 ],\n",
    "                  \"gamma\"            : [ 0.0, 0.1, 0.2 , 0.3 ],\n",
    "                  \"colsample_bytree\" : [ 0.3, 0.4, 0.5,0.7],\n",
    "                  'max_depth': [3,4,6,8,9]\n",
    "              }"
   ]
  },
  {
   "cell_type": "code",
   "execution_count": 0,
   "metadata": {
    "colab": {},
    "colab_type": "code",
    "id": "iKZQGAzVKaMM"
   },
   "outputs": [],
   "source": [
    "xgb_randomgrid = RandomizedSearchCV(xgbc, param_distributions=param_grid, cv=5)"
   ]
  },
  {
   "cell_type": "code",
   "execution_count": 0,
   "metadata": {
    "colab": {
     "base_uri": "https://localhost:8080/",
     "height": 476
    },
    "colab_type": "code",
    "id": "tWPr2blxKgMi",
    "outputId": "ab58869f-1e2d-463a-acf2-366614c39fbd"
   },
   "outputs": [
    {
     "name": "stdout",
     "output_type": "stream",
     "text": [
      "CPU times: user 15min 20s, sys: 2.1 s, total: 15min 22s\n",
      "Wall time: 7min 50s\n"
     ]
    },
    {
     "data": {
      "text/plain": [
       "RandomizedSearchCV(cv=5, error_score=nan,\n",
       "                   estimator=XGBClassifier(base_score=0.5, booster='gbtree',\n",
       "                                           colsample_bylevel=1,\n",
       "                                           colsample_bynode=1,\n",
       "                                           colsample_bytree=1, gamma=0,\n",
       "                                           learning_rate=0.1, max_delta_step=0,\n",
       "                                           max_depth=3, min_child_weight=1,\n",
       "                                           missing=None, n_estimators=100,\n",
       "                                           n_jobs=-1, nthread=None,\n",
       "                                           objective='binary:logistic',\n",
       "                                           random_state=0, reg_alpha=0,\n",
       "                                           reg_lambda=1, s...\n",
       "                                           verbosity=1),\n",
       "                   iid='deprecated', n_iter=10, n_jobs=None,\n",
       "                   param_distributions={'colsample_bytree': [0.3, 0.4, 0.5,\n",
       "                                                             0.7],\n",
       "                                        'gamma': [0.0, 0.1, 0.2, 0.3],\n",
       "                                        'learning_rate': [0.001, 0.01, 0.0001,\n",
       "                                                          0.05, 0.1, 0.15, 0.2,\n",
       "                                                          0.25, 0.3],\n",
       "                                        'max_depth': [3, 4, 6, 8, 9],\n",
       "                                        'n_estimators': [100, 150, 200, 250,\n",
       "                                                         300]},\n",
       "                   pre_dispatch='2*n_jobs', random_state=None, refit=True,\n",
       "                   return_train_score=False, scoring=None, verbose=0)"
      ]
     },
     "execution_count": 38,
     "metadata": {
      "tags": []
     },
     "output_type": "execute_result"
    }
   ],
   "source": [
    "%%time\n",
    "xgb_randomgrid.fit(X_train,y_train)"
   ]
  },
  {
   "cell_type": "code",
   "execution_count": 0,
   "metadata": {
    "colab": {},
    "colab_type": "code",
    "id": "m0OaqcsvKuEW"
   },
   "outputs": [],
   "source": [
    "best_est = xgb_randomgrid.best_estimator_"
   ]
  },
  {
   "cell_type": "code",
   "execution_count": 0,
   "metadata": {
    "colab": {},
    "colab_type": "code",
    "id": "jFVlFxJWIJJT"
   },
   "outputs": [],
   "source": [
    "import pickle\n",
    "Pkl_Filename = \"Pickle_RL_Model.pkl\"  \n",
    "\n",
    "with open(Pkl_Filename, 'wb') as file:  \n",
    "    pickle.dump(best_est, file)"
   ]
  },
  {
   "cell_type": "code",
   "execution_count": 0,
   "metadata": {
    "colab": {
     "base_uri": "https://localhost:8080/",
     "height": 136
    },
    "colab_type": "code",
    "id": "JgOR7mbZITgA",
    "outputId": "41d70efd-9b5c-4bad-c988-8af98a47ca93"
   },
   "outputs": [
    {
     "data": {
      "text/plain": [
       "XGBClassifier(base_score=0.5, booster='gbtree', colsample_bylevel=1,\n",
       "              colsample_bynode=1, colsample_bytree=0.5, gamma=0.3,\n",
       "              learning_rate=0.05, max_delta_step=0, max_depth=4,\n",
       "              min_child_weight=1, missing=nan, n_estimators=100, n_jobs=-1,\n",
       "              nthread=None, objective='binary:logistic', random_state=0,\n",
       "              reg_alpha=0, reg_lambda=1, scale_pos_weight=1, seed=None,\n",
       "              silent=None, subsample=1, verbosity=1)"
      ]
     },
     "execution_count": 44,
     "metadata": {
      "tags": []
     },
     "output_type": "execute_result"
    }
   ],
   "source": [
    "with open(Pkl_Filename, 'rb') as file:  \n",
    "    Pickled_LR_Model = pickle.load(file)\n",
    "\n",
    "Pickled_LR_Model"
   ]
  },
  {
   "cell_type": "code",
   "execution_count": 0,
   "metadata": {
    "colab": {
     "base_uri": "https://localhost:8080/",
     "height": 34
    },
    "colab_type": "code",
    "id": "mTsB6gktQU1C",
    "outputId": "549a3baf-28e2-41c9-b2b3-e63904837cb0"
   },
   "outputs": [
    {
     "data": {
      "text/plain": [
       "0.8675952214200608"
      ]
     },
     "execution_count": 47,
     "metadata": {
      "tags": []
     },
     "output_type": "execute_result"
    }
   ],
   "source": [
    "prob_xgbtrain = best_est.predict_proba(X_train)\n",
    "prob_xgbtrain = prob_xgbtrain[:,1]\n",
    "roc_auc_score(y_train,prob_xgbtrain)"
   ]
  },
  {
   "cell_type": "code",
   "execution_count": 0,
   "metadata": {
    "colab": {},
    "colab_type": "code",
    "id": "-fqRrFt-Q_Id"
   },
   "outputs": [],
   "source": [
    "from sklearn.metrics import accuracy_score,classification_report, recall_score, precision_score,confusion_matrix"
   ]
  },
  {
   "cell_type": "code",
   "execution_count": 0,
   "metadata": {
    "colab": {
     "base_uri": "https://localhost:8080/",
     "height": 34
    },
    "colab_type": "code",
    "id": "YQnYXzgDL-ED",
    "outputId": "1874c2dd-6e97-443b-8ff8-f3a19fb14a8c"
   },
   "outputs": [
    {
     "data": {
      "text/plain": [
       "0.859584914825716"
      ]
     },
     "execution_count": 49,
     "metadata": {
      "tags": []
     },
     "output_type": "execute_result"
    }
   ],
   "source": [
    "prob_xgb=best_est.predict_proba(X_test)\n",
    "prob_xgb = prob_xgb[:,1]\n",
    "roc_auc_score(y_test,prob_xgb)"
   ]
  },
  {
   "cell_type": "code",
   "execution_count": 0,
   "metadata": {
    "colab": {},
    "colab_type": "code",
    "id": "VXpOtImp5kw4"
   },
   "outputs": [],
   "source": [
    "scaler = StandardScaler()\n",
    "test1 = scaler.fit_transform(test)"
   ]
  },
  {
   "cell_type": "code",
   "execution_count": 0,
   "metadata": {
    "colab": {},
    "colab_type": "code",
    "id": "wAlZizlmMV6H"
   },
   "outputs": [],
   "source": [
    "sub2 = best_est.predict_proba(test1)[:,1]"
   ]
  },
  {
   "cell_type": "code",
   "execution_count": 0,
   "metadata": {
    "colab": {},
    "colab_type": "code",
    "id": "fqceRU6_MvQk"
   },
   "outputs": [],
   "source": [
    "submission['Probability'] = sub2"
   ]
  },
  {
   "cell_type": "code",
   "execution_count": 0,
   "metadata": {
    "colab": {},
    "colab_type": "code",
    "id": "CtyoeFQUM4F1"
   },
   "outputs": [],
   "source": [
    "submission.to_csv('submissionxgb.csv', index=False, header=True)"
   ]
  },
  {
   "cell_type": "markdown",
   "metadata": {
    "colab_type": "text",
    "id": "ER73TVoTI-OV"
   },
   "source": [
    "XGBoost performs better when compared to other models and hence it is saved."
   ]
  },
  {
   "cell_type": "markdown",
   "metadata": {
    "colab_type": "text",
    "id": "I6-U-kM15zdm"
   },
   "source": [
    "STACKING with Randomforest, Logistic Regression, KNN and XGBoost"
   ]
  },
  {
   "cell_type": "code",
   "execution_count": 0,
   "metadata": {
    "colab": {},
    "colab_type": "code",
    "id": "yPX842oB52Cj"
   },
   "outputs": [],
   "source": [
    "stack_train = pd.DataFrame([prob_rfctrain,prob_logtrain,prob_knntrain1,prob_xgbtrain])\n",
    "stack_test = pd.DataFrame([prob_rfc,prob_log,prob_knn1,prob_xgb])"
   ]
  },
  {
   "cell_type": "code",
   "execution_count": 0,
   "metadata": {
    "colab": {
     "base_uri": "https://localhost:8080/",
     "height": 222
    },
    "colab_type": "code",
    "id": "n-Hi-Ekg7Ory",
    "outputId": "6df60c4a-7954-4b9e-f468-071c5a41a531"
   },
   "outputs": [
    {
     "data": {
      "text/html": [
       "<div>\n",
       "<style scoped>\n",
       "    .dataframe tbody tr th:only-of-type {\n",
       "        vertical-align: middle;\n",
       "    }\n",
       "\n",
       "    .dataframe tbody tr th {\n",
       "        vertical-align: top;\n",
       "    }\n",
       "\n",
       "    .dataframe thead th {\n",
       "        text-align: right;\n",
       "    }\n",
       "</style>\n",
       "<table border=\"1\" class=\"dataframe\">\n",
       "  <thead>\n",
       "    <tr style=\"text-align: right;\">\n",
       "      <th></th>\n",
       "      <th>0</th>\n",
       "      <th>1</th>\n",
       "      <th>2</th>\n",
       "      <th>3</th>\n",
       "      <th>4</th>\n",
       "      <th>5</th>\n",
       "      <th>6</th>\n",
       "      <th>7</th>\n",
       "      <th>8</th>\n",
       "      <th>9</th>\n",
       "      <th>10</th>\n",
       "      <th>11</th>\n",
       "      <th>12</th>\n",
       "      <th>13</th>\n",
       "      <th>14</th>\n",
       "      <th>15</th>\n",
       "      <th>16</th>\n",
       "      <th>17</th>\n",
       "      <th>18</th>\n",
       "      <th>19</th>\n",
       "      <th>20</th>\n",
       "      <th>21</th>\n",
       "      <th>22</th>\n",
       "      <th>23</th>\n",
       "      <th>24</th>\n",
       "      <th>25</th>\n",
       "      <th>26</th>\n",
       "      <th>27</th>\n",
       "      <th>28</th>\n",
       "      <th>29</th>\n",
       "      <th>30</th>\n",
       "      <th>31</th>\n",
       "      <th>32</th>\n",
       "      <th>33</th>\n",
       "      <th>34</th>\n",
       "      <th>35</th>\n",
       "      <th>36</th>\n",
       "      <th>37</th>\n",
       "      <th>38</th>\n",
       "      <th>39</th>\n",
       "      <th>...</th>\n",
       "      <th>118949</th>\n",
       "      <th>118950</th>\n",
       "      <th>118951</th>\n",
       "      <th>118952</th>\n",
       "      <th>118953</th>\n",
       "      <th>118954</th>\n",
       "      <th>118955</th>\n",
       "      <th>118956</th>\n",
       "      <th>118957</th>\n",
       "      <th>118958</th>\n",
       "      <th>118959</th>\n",
       "      <th>118960</th>\n",
       "      <th>118961</th>\n",
       "      <th>118962</th>\n",
       "      <th>118963</th>\n",
       "      <th>118964</th>\n",
       "      <th>118965</th>\n",
       "      <th>118966</th>\n",
       "      <th>118967</th>\n",
       "      <th>118968</th>\n",
       "      <th>118969</th>\n",
       "      <th>118970</th>\n",
       "      <th>118971</th>\n",
       "      <th>118972</th>\n",
       "      <th>118973</th>\n",
       "      <th>118974</th>\n",
       "      <th>118975</th>\n",
       "      <th>118976</th>\n",
       "      <th>118977</th>\n",
       "      <th>118978</th>\n",
       "      <th>118979</th>\n",
       "      <th>118980</th>\n",
       "      <th>118981</th>\n",
       "      <th>118982</th>\n",
       "      <th>118983</th>\n",
       "      <th>118984</th>\n",
       "      <th>118985</th>\n",
       "      <th>118986</th>\n",
       "      <th>118987</th>\n",
       "      <th>118988</th>\n",
       "    </tr>\n",
       "  </thead>\n",
       "  <tbody>\n",
       "    <tr>\n",
       "      <th>0</th>\n",
       "      <td>0.015783</td>\n",
       "      <td>0.070560</td>\n",
       "      <td>0.037595</td>\n",
       "      <td>0.073769</td>\n",
       "      <td>0.027294</td>\n",
       "      <td>0.022568</td>\n",
       "      <td>0.015375</td>\n",
       "      <td>0.028241</td>\n",
       "      <td>0.618656</td>\n",
       "      <td>0.024362</td>\n",
       "      <td>0.070424</td>\n",
       "      <td>0.017366</td>\n",
       "      <td>0.090387</td>\n",
       "      <td>0.011247</td>\n",
       "      <td>0.016801</td>\n",
       "      <td>0.023075</td>\n",
       "      <td>0.019455</td>\n",
       "      <td>0.022299</td>\n",
       "      <td>0.024622</td>\n",
       "      <td>0.127811</td>\n",
       "      <td>0.014360</td>\n",
       "      <td>0.086919</td>\n",
       "      <td>0.087198</td>\n",
       "      <td>0.055266</td>\n",
       "      <td>0.020092</td>\n",
       "      <td>0.018590</td>\n",
       "      <td>0.009269</td>\n",
       "      <td>0.010778</td>\n",
       "      <td>0.024180</td>\n",
       "      <td>0.090024</td>\n",
       "      <td>0.084544</td>\n",
       "      <td>0.012936</td>\n",
       "      <td>0.047290</td>\n",
       "      <td>0.021115</td>\n",
       "      <td>0.015651</td>\n",
       "      <td>0.028068</td>\n",
       "      <td>0.010965</td>\n",
       "      <td>0.032980</td>\n",
       "      <td>0.011070</td>\n",
       "      <td>0.048463</td>\n",
       "      <td>...</td>\n",
       "      <td>0.141090</td>\n",
       "      <td>0.065402</td>\n",
       "      <td>0.010475</td>\n",
       "      <td>0.009998</td>\n",
       "      <td>0.010971</td>\n",
       "      <td>0.052832</td>\n",
       "      <td>0.009652</td>\n",
       "      <td>0.086914</td>\n",
       "      <td>0.337702</td>\n",
       "      <td>0.091510</td>\n",
       "      <td>0.015822</td>\n",
       "      <td>0.017776</td>\n",
       "      <td>0.082612</td>\n",
       "      <td>0.420134</td>\n",
       "      <td>0.014731</td>\n",
       "      <td>0.018877</td>\n",
       "      <td>0.055313</td>\n",
       "      <td>0.018946</td>\n",
       "      <td>0.076131</td>\n",
       "      <td>0.068141</td>\n",
       "      <td>0.014198</td>\n",
       "      <td>0.020576</td>\n",
       "      <td>0.011033</td>\n",
       "      <td>0.056311</td>\n",
       "      <td>0.009505</td>\n",
       "      <td>0.011378</td>\n",
       "      <td>0.019857</td>\n",
       "      <td>0.393251</td>\n",
       "      <td>0.009543</td>\n",
       "      <td>0.020283</td>\n",
       "      <td>0.024674</td>\n",
       "      <td>0.012010</td>\n",
       "      <td>0.014654</td>\n",
       "      <td>0.019211</td>\n",
       "      <td>0.079072</td>\n",
       "      <td>0.028122</td>\n",
       "      <td>0.074367</td>\n",
       "      <td>0.137253</td>\n",
       "      <td>0.015565</td>\n",
       "      <td>0.009801</td>\n",
       "    </tr>\n",
       "    <tr>\n",
       "      <th>1</th>\n",
       "      <td>0.015642</td>\n",
       "      <td>0.099364</td>\n",
       "      <td>0.060272</td>\n",
       "      <td>0.100993</td>\n",
       "      <td>0.038938</td>\n",
       "      <td>0.019759</td>\n",
       "      <td>0.013997</td>\n",
       "      <td>0.052183</td>\n",
       "      <td>0.573240</td>\n",
       "      <td>0.028881</td>\n",
       "      <td>0.067803</td>\n",
       "      <td>0.014874</td>\n",
       "      <td>0.093677</td>\n",
       "      <td>0.013790</td>\n",
       "      <td>0.017385</td>\n",
       "      <td>0.022905</td>\n",
       "      <td>0.019348</td>\n",
       "      <td>0.038391</td>\n",
       "      <td>0.045563</td>\n",
       "      <td>0.105853</td>\n",
       "      <td>0.016638</td>\n",
       "      <td>0.138012</td>\n",
       "      <td>0.146304</td>\n",
       "      <td>0.037820</td>\n",
       "      <td>0.024471</td>\n",
       "      <td>0.015340</td>\n",
       "      <td>0.008463</td>\n",
       "      <td>0.013107</td>\n",
       "      <td>0.025617</td>\n",
       "      <td>0.157791</td>\n",
       "      <td>0.133800</td>\n",
       "      <td>0.016133</td>\n",
       "      <td>0.031765</td>\n",
       "      <td>0.024169</td>\n",
       "      <td>0.020917</td>\n",
       "      <td>0.042891</td>\n",
       "      <td>0.012580</td>\n",
       "      <td>0.021361</td>\n",
       "      <td>0.009615</td>\n",
       "      <td>0.058006</td>\n",
       "      <td>...</td>\n",
       "      <td>0.065034</td>\n",
       "      <td>0.093252</td>\n",
       "      <td>0.012140</td>\n",
       "      <td>0.009111</td>\n",
       "      <td>0.014155</td>\n",
       "      <td>0.083147</td>\n",
       "      <td>0.009264</td>\n",
       "      <td>0.163510</td>\n",
       "      <td>0.224337</td>\n",
       "      <td>0.080126</td>\n",
       "      <td>0.014732</td>\n",
       "      <td>0.020304</td>\n",
       "      <td>0.037049</td>\n",
       "      <td>0.696340</td>\n",
       "      <td>0.015712</td>\n",
       "      <td>0.027293</td>\n",
       "      <td>0.026391</td>\n",
       "      <td>0.023679</td>\n",
       "      <td>0.084312</td>\n",
       "      <td>0.055261</td>\n",
       "      <td>0.014216</td>\n",
       "      <td>0.019130</td>\n",
       "      <td>0.014384</td>\n",
       "      <td>0.047659</td>\n",
       "      <td>0.011299</td>\n",
       "      <td>0.011256</td>\n",
       "      <td>0.016561</td>\n",
       "      <td>0.312273</td>\n",
       "      <td>0.011904</td>\n",
       "      <td>0.016587</td>\n",
       "      <td>0.027516</td>\n",
       "      <td>0.017123</td>\n",
       "      <td>0.021123</td>\n",
       "      <td>0.031465</td>\n",
       "      <td>0.072513</td>\n",
       "      <td>0.041579</td>\n",
       "      <td>0.046613</td>\n",
       "      <td>0.145719</td>\n",
       "      <td>0.017302</td>\n",
       "      <td>0.013795</td>\n",
       "    </tr>\n",
       "    <tr>\n",
       "      <th>2</th>\n",
       "      <td>0.000000</td>\n",
       "      <td>0.000000</td>\n",
       "      <td>0.000000</td>\n",
       "      <td>0.100000</td>\n",
       "      <td>0.050000</td>\n",
       "      <td>0.000000</td>\n",
       "      <td>0.000000</td>\n",
       "      <td>0.000000</td>\n",
       "      <td>0.600000</td>\n",
       "      <td>0.000000</td>\n",
       "      <td>0.050000</td>\n",
       "      <td>0.000000</td>\n",
       "      <td>0.300000</td>\n",
       "      <td>0.000000</td>\n",
       "      <td>0.000000</td>\n",
       "      <td>0.000000</td>\n",
       "      <td>0.000000</td>\n",
       "      <td>0.050000</td>\n",
       "      <td>0.050000</td>\n",
       "      <td>0.200000</td>\n",
       "      <td>0.000000</td>\n",
       "      <td>0.050000</td>\n",
       "      <td>0.050000</td>\n",
       "      <td>0.000000</td>\n",
       "      <td>0.000000</td>\n",
       "      <td>0.000000</td>\n",
       "      <td>0.000000</td>\n",
       "      <td>0.000000</td>\n",
       "      <td>0.000000</td>\n",
       "      <td>0.200000</td>\n",
       "      <td>0.150000</td>\n",
       "      <td>0.000000</td>\n",
       "      <td>0.050000</td>\n",
       "      <td>0.000000</td>\n",
       "      <td>0.000000</td>\n",
       "      <td>0.000000</td>\n",
       "      <td>0.000000</td>\n",
       "      <td>0.050000</td>\n",
       "      <td>0.000000</td>\n",
       "      <td>0.000000</td>\n",
       "      <td>...</td>\n",
       "      <td>0.100000</td>\n",
       "      <td>0.050000</td>\n",
       "      <td>0.000000</td>\n",
       "      <td>0.000000</td>\n",
       "      <td>0.000000</td>\n",
       "      <td>0.100000</td>\n",
       "      <td>0.050000</td>\n",
       "      <td>0.150000</td>\n",
       "      <td>0.500000</td>\n",
       "      <td>0.050000</td>\n",
       "      <td>0.050000</td>\n",
       "      <td>0.050000</td>\n",
       "      <td>0.150000</td>\n",
       "      <td>0.700000</td>\n",
       "      <td>0.000000</td>\n",
       "      <td>0.050000</td>\n",
       "      <td>0.050000</td>\n",
       "      <td>0.000000</td>\n",
       "      <td>0.000000</td>\n",
       "      <td>0.050000</td>\n",
       "      <td>0.000000</td>\n",
       "      <td>0.000000</td>\n",
       "      <td>0.000000</td>\n",
       "      <td>0.050000</td>\n",
       "      <td>0.000000</td>\n",
       "      <td>0.000000</td>\n",
       "      <td>0.050000</td>\n",
       "      <td>0.200000</td>\n",
       "      <td>0.000000</td>\n",
       "      <td>0.000000</td>\n",
       "      <td>0.050000</td>\n",
       "      <td>0.000000</td>\n",
       "      <td>0.000000</td>\n",
       "      <td>0.000000</td>\n",
       "      <td>0.150000</td>\n",
       "      <td>0.000000</td>\n",
       "      <td>0.100000</td>\n",
       "      <td>0.100000</td>\n",
       "      <td>0.000000</td>\n",
       "      <td>0.000000</td>\n",
       "    </tr>\n",
       "    <tr>\n",
       "      <th>3</th>\n",
       "      <td>0.012267</td>\n",
       "      <td>0.108401</td>\n",
       "      <td>0.047781</td>\n",
       "      <td>0.078781</td>\n",
       "      <td>0.024743</td>\n",
       "      <td>0.014790</td>\n",
       "      <td>0.013100</td>\n",
       "      <td>0.052871</td>\n",
       "      <td>0.699351</td>\n",
       "      <td>0.015978</td>\n",
       "      <td>0.049791</td>\n",
       "      <td>0.011044</td>\n",
       "      <td>0.084979</td>\n",
       "      <td>0.006914</td>\n",
       "      <td>0.007847</td>\n",
       "      <td>0.019766</td>\n",
       "      <td>0.011224</td>\n",
       "      <td>0.018549</td>\n",
       "      <td>0.028580</td>\n",
       "      <td>0.160195</td>\n",
       "      <td>0.010871</td>\n",
       "      <td>0.056641</td>\n",
       "      <td>0.045415</td>\n",
       "      <td>0.069013</td>\n",
       "      <td>0.008986</td>\n",
       "      <td>0.007522</td>\n",
       "      <td>0.006021</td>\n",
       "      <td>0.006231</td>\n",
       "      <td>0.012513</td>\n",
       "      <td>0.063984</td>\n",
       "      <td>0.086235</td>\n",
       "      <td>0.005722</td>\n",
       "      <td>0.022217</td>\n",
       "      <td>0.024723</td>\n",
       "      <td>0.012122</td>\n",
       "      <td>0.027344</td>\n",
       "      <td>0.003687</td>\n",
       "      <td>0.033344</td>\n",
       "      <td>0.003191</td>\n",
       "      <td>0.031454</td>\n",
       "      <td>...</td>\n",
       "      <td>0.098819</td>\n",
       "      <td>0.050479</td>\n",
       "      <td>0.007954</td>\n",
       "      <td>0.006170</td>\n",
       "      <td>0.010957</td>\n",
       "      <td>0.022066</td>\n",
       "      <td>0.004968</td>\n",
       "      <td>0.165015</td>\n",
       "      <td>0.471081</td>\n",
       "      <td>0.079229</td>\n",
       "      <td>0.007511</td>\n",
       "      <td>0.009626</td>\n",
       "      <td>0.085590</td>\n",
       "      <td>0.566114</td>\n",
       "      <td>0.010902</td>\n",
       "      <td>0.013671</td>\n",
       "      <td>0.029819</td>\n",
       "      <td>0.008744</td>\n",
       "      <td>0.069651</td>\n",
       "      <td>0.057320</td>\n",
       "      <td>0.017951</td>\n",
       "      <td>0.018714</td>\n",
       "      <td>0.009558</td>\n",
       "      <td>0.070166</td>\n",
       "      <td>0.006499</td>\n",
       "      <td>0.005873</td>\n",
       "      <td>0.015700</td>\n",
       "      <td>0.348450</td>\n",
       "      <td>0.004812</td>\n",
       "      <td>0.007432</td>\n",
       "      <td>0.020915</td>\n",
       "      <td>0.006294</td>\n",
       "      <td>0.011388</td>\n",
       "      <td>0.012760</td>\n",
       "      <td>0.065676</td>\n",
       "      <td>0.027959</td>\n",
       "      <td>0.066016</td>\n",
       "      <td>0.085991</td>\n",
       "      <td>0.010055</td>\n",
       "      <td>0.003428</td>\n",
       "    </tr>\n",
       "  </tbody>\n",
       "</table>\n",
       "<p>4 rows × 118989 columns</p>\n",
       "</div>"
      ],
      "text/plain": [
       "     0         1         2       ...    118986    118987    118988\n",
       "0  0.015783  0.070560  0.037595  ...  0.137253  0.015565  0.009801\n",
       "1  0.015642  0.099364  0.060272  ...  0.145719  0.017302  0.013795\n",
       "2  0.000000  0.000000  0.000000  ...  0.100000  0.000000  0.000000\n",
       "3  0.012267  0.108401  0.047781  ...  0.085991  0.010055  0.003428\n",
       "\n",
       "[4 rows x 118989 columns]"
      ]
     },
     "execution_count": 110,
     "metadata": {
      "tags": []
     },
     "output_type": "execute_result"
    }
   ],
   "source": [
    "stack_train"
   ]
  },
  {
   "cell_type": "code",
   "execution_count": 0,
   "metadata": {
    "colab": {},
    "colab_type": "code",
    "id": "004rkze27Obt"
   },
   "outputs": [],
   "source": [
    "stack_train = stack_train.T  # T - for transpose\n",
    "stack_test = stack_test.T"
   ]
  },
  {
   "cell_type": "code",
   "execution_count": 0,
   "metadata": {
    "colab": {
     "base_uri": "https://localhost:8080/",
     "height": 221
    },
    "colab_type": "code",
    "id": "IOc2W_Jy7bgu",
    "outputId": "9524fb7a-1fa2-4472-c64d-23b05f57556e"
   },
   "outputs": [
    {
     "name": "stdout",
     "output_type": "stream",
     "text": [
      "          0         1     2         3\n",
      "0  0.015783  0.015642  0.00  0.012267\n",
      "1  0.070560  0.099364  0.00  0.108401\n",
      "2  0.037595  0.060272  0.00  0.047781\n",
      "3  0.073769  0.100993  0.10  0.078781\n",
      "4  0.027294  0.038938  0.05  0.024743\n",
      "          0         1     2         3\n",
      "0  0.010771  0.011134  0.00  0.012756\n",
      "1  0.040887  0.042644  0.00  0.057973\n",
      "2  0.214399  0.209653  0.25  0.237930\n",
      "3  0.009573  0.009387  0.00  0.004689\n",
      "4  0.009269  0.007836  0.00  0.004785\n"
     ]
    }
   ],
   "source": [
    "print(stack_train.head())\n",
    "print(stack_test.head())"
   ]
  },
  {
   "cell_type": "code",
   "execution_count": 0,
   "metadata": {
    "colab": {},
    "colab_type": "code",
    "id": "qMFajYnH7bd3"
   },
   "outputs": [],
   "source": [
    "stack_train.columns = ['prob_rfctrain','prob_logtrain','prob_knntrain1','prob_xgbtrain']\n",
    "stack_test.columns = ['prob_rfc','prob_log','prob_knn1','prob_xgb']"
   ]
  },
  {
   "cell_type": "code",
   "execution_count": 0,
   "metadata": {
    "colab": {
     "base_uri": "https://localhost:8080/",
     "height": 51
    },
    "colab_type": "code",
    "id": "02IDfkK98Fpq",
    "outputId": "e474b2a7-c2a2-46ff-baf1-6083a4cc55c7"
   },
   "outputs": [
    {
     "name": "stdout",
     "output_type": "stream",
     "text": [
      "(118989, 4)\n",
      "(29748, 4)\n"
     ]
    }
   ],
   "source": [
    "print(stack_train.shape)\n",
    "print(stack_test.shape)"
   ]
  },
  {
   "cell_type": "code",
   "execution_count": 0,
   "metadata": {
    "colab": {},
    "colab_type": "code",
    "id": "wYbKoMJo7qer"
   },
   "outputs": [],
   "source": [
    "dtc = LogisticRegression()\n",
    "\n",
    "dtc.fit(stack_train,y_train)\n",
    "\n",
    "stacked_pred_train = dtc.predict(stack_train)\n",
    "stacked_pred_test = dtc.predict(stack_test)"
   ]
  },
  {
   "cell_type": "code",
   "execution_count": 0,
   "metadata": {
    "colab": {
     "base_uri": "https://localhost:8080/",
     "height": 34
    },
    "colab_type": "code",
    "id": "CehgWG2N7qbn",
    "outputId": "c3098bea-dd67-47a2-8704-155780b88eb2"
   },
   "outputs": [
    {
     "data": {
      "text/plain": [
       "0.6463543245001409"
      ]
     },
     "execution_count": 117,
     "metadata": {
      "tags": []
     },
     "output_type": "execute_result"
    }
   ],
   "source": [
    "roc_auc_score(y_train,stacked_pred_train)"
   ]
  },
  {
   "cell_type": "code",
   "execution_count": 0,
   "metadata": {
    "colab": {
     "base_uri": "https://localhost:8080/",
     "height": 34
    },
    "colab_type": "code",
    "id": "r9xLfT4x7qYr",
    "outputId": "a1afb492-a8b4-4fbf-d5c8-d701a70281e9"
   },
   "outputs": [
    {
     "data": {
      "text/plain": [
       "0.6125906102471393"
      ]
     },
     "execution_count": 118,
     "metadata": {
      "tags": []
     },
     "output_type": "execute_result"
    }
   ],
   "source": [
    "roc_auc_score(y_test,stacked_pred_test)"
   ]
  },
  {
   "cell_type": "markdown",
   "metadata": {
    "colab_type": "text",
    "id": "QzvEoKswLncW"
   },
   "source": [
    "Stacking doesn't improve the score when compared to the previous models."
   ]
  },
  {
   "cell_type": "markdown",
   "metadata": {
    "colab_type": "text",
    "id": "PYXVxwlHBwnQ"
   },
   "source": [
    "Using SMOTE for Imbalanced Data"
   ]
  },
  {
   "cell_type": "code",
   "execution_count": 0,
   "metadata": {
    "colab": {},
    "colab_type": "code",
    "id": "JDmwD6LWNI9v"
   },
   "outputs": [],
   "source": [
    "from imblearn.over_sampling import SMOTE"
   ]
  },
  {
   "cell_type": "code",
   "execution_count": 0,
   "metadata": {
    "colab": {},
    "colab_type": "code",
    "id": "0kyjRU2dWS3w"
   },
   "outputs": [],
   "source": [
    "smote = SMOTE(random_state=0)\n",
    "\n",
    "os_data_X,os_data_y=smote.fit_sample(X_train,y_train)\n",
    "\n",
    "#os_data_X = pd.DataFrame(data=os_data_X)\n",
    "#os_data_y= pd.DataFrame(data=os_data_y,columns=['SeriousDlqin2yrs'])\n"
   ]
  },
  {
   "cell_type": "code",
   "execution_count": 0,
   "metadata": {
    "colab": {},
    "colab_type": "code",
    "id": "QVJMANNNW7P_"
   },
   "outputs": [],
   "source": [
    "print(\"length of oversampled data is \",len(os_data_X))\n",
    "print(\"Number of no subscription in oversampled data\",len(os_data_y[os_data_y['SeriousDlqin2yrs']==0]))\n",
    "print(\"Number of subscription\",len(os_data_y[os_data_y['SeriousDlqin2yrs']==1]))\n",
    "print(\"Proportion of no subscription data in oversampled data is \",len(os_data_y[os_data_y['SeriousDlqin2yrs']==0])/len(os_data_X))\n",
    "print(\"Proportion of subscription data in oversampled data is \",len(os_data_y[os_data_y['SeriousDlqin2yrs']==1])/len(os_data_X))"
   ]
  },
  {
   "cell_type": "code",
   "execution_count": 0,
   "metadata": {
    "colab": {},
    "colab_type": "code",
    "id": "uuKPIUECXc2f"
   },
   "outputs": [],
   "source": [
    "xgbsmote = XGBClassifier(n_jobs=-1) \n",
    " \n",
    "# Use a grid over parameters of interest\n",
    "param_grid = {\n",
    "                  'n_estimators' :[100,150,200,250,300],\n",
    "                  \"learning_rate\" : [0.001,0.01,0.0001,0.05, 0.10 ],\n",
    "                  \"gamma\"            : [ 0.0, 0.1, 0.2 , 0.3 ],\n",
    "                  \"colsample_bytree\" : [0.5,0.7],\n",
    "                  'max_depth': [3,4,6,8]\n",
    "              }"
   ]
  },
  {
   "cell_type": "code",
   "execution_count": 0,
   "metadata": {
    "colab": {},
    "colab_type": "code",
    "id": "pCBGpKvkXo12"
   },
   "outputs": [],
   "source": [
    "xgbsmote_randomgrid = RandomizedSearchCV(xgbsmote, param_distributions=param_grid, cv=5)"
   ]
  },
  {
   "cell_type": "code",
   "execution_count": 0,
   "metadata": {
    "colab": {
     "base_uri": "https://localhost:8080/",
     "height": 459
    },
    "colab_type": "code",
    "id": "wUDgYLsAXxpG",
    "outputId": "63d0aecb-26aa-41e3-84af-cb9da5be35d6"
   },
   "outputs": [
    {
     "name": "stdout",
     "output_type": "stream",
     "text": [
      "CPU times: user 34min 27s, sys: 3.73 s, total: 34min 31s\n",
      "Wall time: 17min 35s\n"
     ]
    },
    {
     "data": {
      "text/plain": [
       "RandomizedSearchCV(cv=5, error_score=nan,\n",
       "                   estimator=XGBClassifier(base_score=0.5, booster='gbtree',\n",
       "                                           colsample_bylevel=1,\n",
       "                                           colsample_bynode=1,\n",
       "                                           colsample_bytree=1, gamma=0,\n",
       "                                           learning_rate=0.1, max_delta_step=0,\n",
       "                                           max_depth=3, min_child_weight=1,\n",
       "                                           missing=None, n_estimators=100,\n",
       "                                           n_jobs=-1, nthread=None,\n",
       "                                           objective='binary:logistic',\n",
       "                                           random_state=0, reg_alpha=0,\n",
       "                                           reg_lambda=1, s...\n",
       "                                           seed=None, silent=None, subsample=1,\n",
       "                                           verbosity=1),\n",
       "                   iid='deprecated', n_iter=10, n_jobs=None,\n",
       "                   param_distributions={'colsample_bytree': [0.5, 0.7],\n",
       "                                        'gamma': [0.0, 0.1, 0.2, 0.3],\n",
       "                                        'learning_rate': [0.001, 0.01, 0.0001,\n",
       "                                                          0.05, 0.1],\n",
       "                                        'max_depth': [3, 4, 6, 8],\n",
       "                                        'n_estimators': [100, 150, 200, 250,\n",
       "                                                         300]},\n",
       "                   pre_dispatch='2*n_jobs', random_state=None, refit=True,\n",
       "                   return_train_score=False, scoring=None, verbose=0)"
      ]
     },
     "execution_count": 45,
     "metadata": {
      "tags": []
     },
     "output_type": "execute_result"
    }
   ],
   "source": [
    "%%time\n",
    "xgbsmote_randomgrid.fit(os_data_X,os_data_y)"
   ]
  },
  {
   "cell_type": "code",
   "execution_count": 0,
   "metadata": {
    "colab": {},
    "colab_type": "code",
    "id": "BjAHhnk-YDU7"
   },
   "outputs": [],
   "source": [
    "best_est = xgbsmote_randomgrid.best_estimator_"
   ]
  },
  {
   "cell_type": "code",
   "execution_count": 0,
   "metadata": {
    "colab": {},
    "colab_type": "code",
    "id": "OmSZCsc5cCj5"
   },
   "outputs": [],
   "source": [
    "train_pred1 = best_est.predict_proba(os_data_X)\n",
    "train_pred1 = train_pred1[:,1]"
   ]
  },
  {
   "cell_type": "code",
   "execution_count": 0,
   "metadata": {
    "colab": {
     "base_uri": "https://localhost:8080/",
     "height": 513
    },
    "colab_type": "code",
    "id": "WWOcMQWKcNDt",
    "outputId": "ae8c8883-f9c5-409c-f899-9f9f08fed4be"
   },
   "outputs": [
    {
     "data": {
      "image/png": "[encoded data removed]",
      "text/plain": [
       "<Figure size 720x576 with 1 Axes>"
      ]
     },
     "metadata": {
      "needs_background": "light",
      "tags": []
     },
     "output_type": "display_data"
    }
   ],
   "source": [
    "fpr,tpr,_ = roc_curve(os_data_y, train_pred1)\n",
    "roc_auc = auc(fpr, tpr)\n",
    "plt.figure(figsize=(10,8))\n",
    "plt.title('Receiver Operating Characteristic')\n",
    "sns.lineplot(fpr, tpr, label = 'AUC = %0.2f' % roc_auc)\n",
    "plt.legend(loc = 'lower right')\n",
    "plt.plot([0, 1], [0, 1],'r--')\n",
    "plt.ylabel('True Positive Rate')\n",
    "plt.xlabel('False Positive Rate')\n",
    "plt.show()"
   ]
  },
  {
   "cell_type": "code",
   "execution_count": 0,
   "metadata": {
    "colab": {},
    "colab_type": "code",
    "id": "8uPrQjmocXyj"
   },
   "outputs": [],
   "source": [
    "prob5=best_est.predict_proba(X_test)\n",
    "prob5 = prob5[:,1]"
   ]
  },
  {
   "cell_type": "code",
   "execution_count": 0,
   "metadata": {
    "colab": {
     "base_uri": "https://localhost:8080/",
     "height": 513
    },
    "colab_type": "code",
    "id": "SGPFLqesc5S3",
    "outputId": "4273a111-839a-4490-ebb7-02ce72cb9ccd"
   },
   "outputs": [
    {
     "data": {
      "image/png": "[encoded data removed]",
      "text/plain": [
       "<Figure size 720x576 with 1 Axes>"
      ]
     },
     "metadata": {
      "needs_background": "light",
      "tags": []
     },
     "output_type": "display_data"
    }
   ],
   "source": [
    "fpr,tpr,_ = roc_curve(y_test, prob5)\n",
    "roc_auc = auc(fpr, tpr)\n",
    "plt.figure(figsize=(10,8))\n",
    "plt.title('Receiver Operating Characteristic')\n",
    "sns.lineplot(fpr, tpr, label = 'AUC = %0.2f' % roc_auc)\n",
    "plt.legend(loc = 'lower right')\n",
    "plt.plot([0, 1], [0, 1],'r--')\n",
    "plt.ylabel('True Positive Rate')\n",
    "plt.xlabel('False Positive Rate')\n",
    "plt.show()"
   ]
  },
  {
   "cell_type": "code",
   "execution_count": 0,
   "metadata": {
    "colab": {},
    "colab_type": "code",
    "id": "8GQ-8L63cXVL"
   },
   "outputs": [],
   "source": [
    "pred = best_est.predict_proba(test1)[:,1]"
   ]
  },
  {
   "cell_type": "code",
   "execution_count": 0,
   "metadata": {
    "colab": {},
    "colab_type": "code",
    "id": "LkivsjAPdTs2"
   },
   "outputs": [],
   "source": [
    "submission[\"Probability\"]=pred"
   ]
  },
  {
   "cell_type": "code",
   "execution_count": 0,
   "metadata": {
    "colab": {},
    "colab_type": "code",
    "id": "xW28PvZndm8D"
   },
   "outputs": [],
   "source": [
    "submission.to_csv(\"smoterfc.csv\", index=False, header=True)"
   ]
  }
 ],
 "metadata": {
  "accelerator": "GPU",
  "colab": {
   "collapsed_sections": [],
   "name": "Credit risk.ipynb",
   "provenance": []
  },
  "kernelspec": {
   "display_name": "Python 3",
   "language": "python",
   "name": "python3"
  },
  "language_info": {
   "codemirror_mode": {
    "name": "ipython",
    "version": 3
   },
   "file_extension": ".py",
   "mimetype": "text/x-python",
   "name": "python",
   "nbconvert_exporter": "python",
   "pygments_lexer": "ipython3",
   "version": "3.7.1"
  }
 },
 "nbformat": 4,
 "nbformat_minor": 1
}
